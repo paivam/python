{
 "cells": [
  {
   "cell_type": "markdown",
   "metadata": {},
   "source": [
    "### Lista 10\n",
    "**Nome**:Mateus Henrique Silva Paiva <br>\n",
    "**RA**: 817123241"
   ]
  },
  {
   "cell_type": "markdown",
   "metadata": {},
   "source": [
    "1. Faça um Programa que peça dois números e imprima o maior deles."
   ]
  },
  {
   "cell_type": "code",
   "execution_count": 1,
   "metadata": {},
   "outputs": [
    {
     "name": "stdout",
     "output_type": "stream",
     "text": [
      "Digite um numero: 3\n",
      "Digite outro numero: 8\n",
      "O numero 8 é o maior\n"
     ]
    }
   ],
   "source": [
    "a = input('Digite um numero: ')\n",
    "b = input('Digite outro numero: ')\n",
    "if a < b:\n",
    "    print('O numero',b,'é o maior')\n",
    "elif b < a:\n",
    "    print('O numero',a,'é p maior')"
   ]
  },
  {
   "cell_type": "markdown",
   "metadata": {},
   "source": [
    "2. Faça um Programa que verifique se uma letra digitada é vogal ou consoante."
   ]
  },
  {
   "cell_type": "code",
   "execution_count": 2,
   "metadata": {},
   "outputs": [
    {
     "name": "stdout",
     "output_type": "stream",
     "text": [
      "Digite uma letra: a\n",
      "É uma vogal\n"
     ]
    }
   ],
   "source": [
    "vogal = ['a','e','i','o','u']\n",
    "texto = str(input('Digite uma letra: '))\n",
    "if texto in vogal:\n",
    "    print('É uma vogal')\n",
    "else:\n",
    "    print('É uma consoante')"
   ]
  },
  {
   "cell_type": "markdown",
   "metadata": {},
   "source": [
    "3. Faça um programa para a leitura de duas notas parciais de um aluno. O programa deve calcular a média alcançada por aluno e apresentar:\n",
    "\n",
    "- A mensagem \"Aprovado\", se a média alcançada for maior ou igual a sete;\n",
    "- A mensagem \"Reprovado\", se a média for menor do que sete;\n",
    "- A mensagem \"Aprovado com Distinção\", se a média for igual a dez."
   ]
  },
  {
   "cell_type": "code",
   "execution_count": 3,
   "metadata": {},
   "outputs": [
    {
     "name": "stdout",
     "output_type": "stream",
     "text": [
      "Digite a primeira nota: 2\n",
      "Digite a segunda nota: 3\n",
      "Média:  2.5\n",
      "Reprovado\n"
     ]
    }
   ],
   "source": [
    "nota1 = float(input('Digite a primeira nota: '))\n",
    "nota2 = float(input('Digite a segunda nota: '))\n",
    "media = (nota1 + nota2)/2\n",
    "print('Média: ',media)\n",
    "if media == 10:\n",
    "    print('Aprovado com Distincao')\n",
    "elif media >= 7:\n",
    "    print('Aprovado')\n",
    "else:\n",
    "    print('Reprovado')"
   ]
  },
  {
   "cell_type": "markdown",
   "metadata": {},
   "source": [
    "4. Faça um Programa que leia três números e mostre-os em ordem decrescente."
   ]
  },
  {
   "cell_type": "code",
   "execution_count": 4,
   "metadata": {},
   "outputs": [
    {
     "name": "stdout",
     "output_type": "stream",
     "text": [
      "Digite um numero: 3\n",
      "Digite um segundo numero: 2\n",
      "Digite um terceiro numero: 2\n"
     ]
    }
   ],
   "source": [
    "a = float(input('Digite um numero: '))\n",
    "b = float(input('Digite um segundo numero: '))\n",
    "c = float(input('Digite um terceiro numero: '))\n",
    "if a > b and a > c and b > c:\n",
    "    print(a,',',b,',',c)\n",
    "elif a > b and a > c and c > b:\n",
    "    print(a,',',c,',',b)\n",
    "elif b > a and b > c and a > c:\n",
    "    print(b,',',a,',',c)\n",
    "elif b > b and b > c and c > a:\n",
    "    print(b,',',c,',',a)\n",
    "elif c > a and c > b and a > b:\n",
    "    print(c,',',a,',',b)\n",
    "elif c > a and c > b and b > a:\n",
    "    print(c,',',b,',',a)\n",
    "elif a == b and a == c:\n",
    "    print(a,',',b,',',c)\n",
    "#fazer de maneira diferente botando em lista e ordenando"
   ]
  },
  {
   "cell_type": "markdown",
   "metadata": {},
   "source": [
    "5. As Organizações Tabajara resolveram dar um aumento de salário aos seuscolaboradores e lhe contrataram para desenvolver o programa que calculará os reajustes.Faça um programa que recebe o salário de um colaborador e o reajuste segundo o seguinte critério, baseado no salário atual:<br>\n",
    "a) salários até RS 280,00 (incluindo) : aumento de 20% <br>\n",
    "b)salários entre RS 280,00 e RS 700,00 : aumento de 15% <br>\n",
    "c)salários entre RS 700,00 e RS 1500,00 : aumento de 10% <br>\n",
    "d)salários de RS 1500,00 em diante : aumento de 5% Após o aumento ser realizado, <br>\n",
    "informe na tela:<br>\n",
    "a)o salário antes do reajuste;<br>\n",
    "b)o percentual de aumento aplicado;<br>\n",
    "c)o valor do aumento;<br>\n",
    "d)o novo salário, após o aumento.<br>"
   ]
  },
  {
   "cell_type": "code",
   "execution_count": 5,
   "metadata": {},
   "outputs": [
    {
     "name": "stdout",
     "output_type": "stream",
     "text": [
      "Digite o salário atual: 3\n",
      "Salario anterior:  3.0\n",
      "Percentual de aumento:  20.0 %\n",
      "Valor do aumento:  0.6000000000000001\n",
      "Salario apos reajuste:  3.6\n"
     ]
    }
   ],
   "source": [
    "salario = float(input('Digite o salário atual: '))\n",
    "if salario <= 280:\n",
    "    print('Salario anterior: ', salario)\n",
    "    porcentagem = 0.2\n",
    "    print('Percentual de aumento: ',(porcentagem*100),'%')\n",
    "    aumento = salario * porcentagem\n",
    "    print('Valor do aumento: ',aumento)\n",
    "    salario = salario + aumento\n",
    "    print('Salario apos reajuste: ',salario)\n",
    "elif 280 < salario <= 700:\n",
    "    print('Salario anterior: ', salario)\n",
    "    porcentagem = 0.15\n",
    "    print('Percentual de aumento: ',(porcentagem*100),'%')\n",
    "    aumento = salario * porcentagem\n",
    "    print('Valor do aumento: ',aumento)\n",
    "    salario = salario + aumento\n",
    "    print('Salario apos reajuste: ',salario)\n",
    "elif 700 < salario <= 1500:\n",
    "    print('Salario anterior: ', salario)\n",
    "    porcentagem = 0.10\n",
    "    print('Percentual de aumento: ',(porcentagem*100),'%')\n",
    "    aumento = salario * porcentagem\n",
    "    print('Valor do aumento: ',aumento)\n",
    "    salario = salario + aumento\n",
    "    print('Salario apos reajuste: ',salario)\n",
    "elif salario > 1500:\n",
    "    print('Salario anterior: ', salario)\n",
    "    porcentagem = 0.05\n",
    "    print('Percentual de aumento: ',(porcentagem*100),'%')\n",
    "    aumento = salario * porcentagem\n",
    "    print('Valor do aumento: ',aumento)\n",
    "    salario = salario + aumento\n",
    "    print('Salario apos reajuste: ',salario)"
   ]
  },
  {
   "cell_type": "markdown",
   "metadata": {},
   "source": [
    "6. Faça um Programa que leia um número e exiba o dia correspondente da semana.\n",
    "(1-Domingo, 2- Segunda, etc.), se digitar outro valor deve aparecer valor inválido."
   ]
  },
  {
   "cell_type": "code",
   "execution_count": 6,
   "metadata": {},
   "outputs": [
    {
     "name": "stdout",
     "output_type": "stream",
     "text": [
      "Digite um numero de 1 a 7: 3\n",
      "Terca\n"
     ]
    }
   ],
   "source": [
    "n = input('Digite um numero de 1 a 7: ')\n",
    "dict_semana = {'1':'Domingo','2':'Segunda','3':'Terca','4':'Quarta','5':'Quinta','6':'Sexta','7':'Sabado'}\n",
    "if n in dict_semana.keys():\n",
    "    n = dict_semana[n]\n",
    "    print(n)\n",
    "else:\n",
    "    print('Valor invalido')"
   ]
  },
  {
   "cell_type": "markdown",
   "metadata": {},
   "source": [
    "7. Faça um programa que lê as duas notas parciais obtidas por um aluno numa\n",
    "disciplina ao longo de um semestre, e calcule a sua média. A atribuição de conceitos\n",
    "obedece à tabela abaixo:\n",
    "Média de Aproveitamento Conceito\n",
    " - Entre 9.0 e 10.0 A\n",
    " - Entre 7.5 e 9.0 B\n",
    " - Entre 6.0 e 7.5 C\n",
    " - Entre 4.0 e 6.0 D\n",
    " - Entre 4.0 e zero E\n",
    "O algoritmo deve mostrar na tela as notas, a média, o conceito correspondente e a\n",
    "mensagem “APROVADO” se o conceito for A, B ou C ou “REPROVADO” se o conceito\n",
    "for D ou E."
   ]
  },
  {
   "cell_type": "code",
   "execution_count": 7,
   "metadata": {},
   "outputs": [
    {
     "name": "stdout",
     "output_type": "stream",
     "text": [
      "Digite a primeira nota: 6\n",
      "Digite a segunda nota: 9\n",
      "Primeira Nota:  6.0\n",
      "Segunda Nota:  9.0\n",
      "Media B :  7.5\n",
      "APROVADO\n"
     ]
    }
   ],
   "source": [
    "n1 = float(input('Digite a primeira nota: '))\n",
    "n2 = float(input('Digite a segunda nota: '))\n",
    "print('Primeira Nota: ',n1)\n",
    "print('Segunda Nota: ',n2)\n",
    "media = (n1+n2)/2\n",
    "if 9 <= media <= 10:\n",
    "    print('Media A : ',media)\n",
    "    print('APROVADO')\n",
    "elif 7.5 <= media < 9:\n",
    "    print('Media B : ',media)\n",
    "    print('APROVADO')\n",
    "elif 6 <= media < 7.5:\n",
    "    print('Media C : ', media)\n",
    "    print('APROVADO')\n",
    "elif 4 <= media < 6:\n",
    "    print('Media D : ', media)\n",
    "    print('REPROVADO')\n",
    "elif 0 <= media < 4:\n",
    "    print('Media E : ', media)\n",
    "    print('REPROVADO')"
   ]
  },
  {
   "cell_type": "markdown",
   "metadata": {},
   "source": [
    "8. Faça um Programa que peça os 3 lados de um triângulo. O programa deverá\n",
    "informar se os valores podem ser um triângulo. Indique, caso os lados formem um\n",
    "triângulo, se o mesmo é: equilátero, isósceles ou escaleno.\n",
    "Dicas:\n",
    "- Três lados formam um triângulo quando a soma de quaisquer dois lados for maior\n",
    "que o terceiro;\n",
    "- Triângulo Equilátero: três lados iguais;\n",
    "- Triângulo Isósceles: quaisquer dois lados iguais;\n",
    "- Triângulo Escaleno: três lados diferentes;"
   ]
  },
  {
   "cell_type": "code",
   "execution_count": 8,
   "metadata": {},
   "outputs": [
    {
     "name": "stdout",
     "output_type": "stream",
     "text": [
      "Insira um lado de um triangulo: 3\n",
      "Insira um lado de um triangulo: 2\n",
      "Insira um lado de um triangulo: 3\n",
      "É um triangulo válido\n",
      "É um triagulo isosceles\n"
     ]
    }
   ],
   "source": [
    "lado1 = float(input('Insira um lado de um triangulo: '))\n",
    "lado2 = float(input('Insira um lado de um triangulo: '))\n",
    "lado3 = float(input('Insira um lado de um triangulo: '))\n",
    "if lado1 + lado2 > lado3 and lado1 + lado3 > lado2 and lado2 + lado3 > lado1:\n",
    "    print('É um triangulo válido')\n",
    "    if lado1 == lado2 == lado3:\n",
    "        print('É um triangulo equilatero')\n",
    "    elif lado1 == lado2 or lado1 == lado3 or lado2 == lado3:\n",
    "        print('É um triagulo isosceles')\n",
    "    elif lado1 != lado2 != lado3:\n",
    "        print('É um triangulo escaleno')\n",
    "else:\n",
    "    print('Não é triangulo')"
   ]
  },
  {
   "cell_type": "markdown",
   "metadata": {},
   "source": [
    "9. Faça um programa que calcule as raízes de uma equação do segundo grau, na\n",
    "forma ax2 + bx + c. O programa deverá pedir os valores de a, b e c e fazer as\n",
    "consistências, informando ao usuário nas seguintes situações:\n",
    "- Se o usuário informar o valor de A igual a zero, a equação não é do segundo grau e\n",
    "o programa não deve fazer pedir os demais valores, sendo encerrado;\n",
    "- Se o delta calculado for negativo, a equação não possui raizes reais. Informe ao\n",
    "usuário e encerre o programa;\n",
    "- Se o delta calculado for igual a zero a equação possui apenas uma raiz real;\n",
    "informe-a ao usuário;\n",
    "- Se o delta for positivo, a equação possui duas raiz reais; informe-as ao usuário;"
   ]
  },
  {
   "cell_type": "code",
   "execution_count": 9,
   "metadata": {},
   "outputs": [
    {
     "name": "stdout",
     "output_type": "stream",
     "text": [
      "Digite o valor de a: 3\n",
      "Digite o valor de b: 4\n",
      "Digite o valor de c: 3\n",
      "Delta:  -20\n",
      "Não existem raizes reais\n"
     ]
    }
   ],
   "source": [
    "a = int(input('Digite o valor de a: '))\n",
    "b = int(input('Digite o valor de b: '))\n",
    "c = int(input('Digite o valor de c: '))\n",
    "\n",
    "if a == 0:\n",
    "    print('Não é equação de segundo grau')\n",
    "else:\n",
    "    delta = b**2 - (4*a*c)\n",
    "    if delta < 0:\n",
    "        print('Delta: ',delta)\n",
    "        print('Não existem raizes reais')\n",
    "    elif delta == 0:\n",
    "        x = (-b)/(2*a)\n",
    "        print('Delta: ',delta)\n",
    "        print('Possui uma unica raiz real: ',x)\n",
    "    else:\n",
    "        x1 = (-b + (delta**(1/2))) /(2*a)\n",
    "        x2 = (-b - (delta**(1/2))) /(2*a)\n",
    "        print('Delta: ',delta)\n",
    "        print(f'Possui 2 raizes reais: {x1}, {x2}')"
   ]
  },
  {
   "cell_type": "markdown",
   "metadata": {},
   "source": [
    "10 Faça um Programa para um caixa eletrônico. O programa deverá perguntar ao usuário a valor do saque e depois informar quantas notas de cada valor serão fornecidas. As notas disponíveis serão as de 1, 5, 10, 50 e 100 reais. O valor mínimo é de 10 reais e o máximo de 600 reais. O programa não deve se preocupar com a quantidade de notas existentes na máquina.\n",
    "- Exemplo 1: Para sacar a quantia de 256 reais, o programa fornece duas notas de 100, uma nota de 50, uma nota de 5 e uma nota de 1;\n",
    "- Exemplo 2: Para sacar a quantia de 399 reais, o programa fornece três notas de 100, uma nota de 50, quatro notas de 10, uma nota de 5 e quatro notas de 1."
   ]
  },
  {
   "cell_type": "code",
   "execution_count": 11,
   "metadata": {},
   "outputs": [
    {
     "name": "stdout",
     "output_type": "stream",
     "text": [
      "Digite o valor a ser sacado: 6\n"
     ]
    }
   ],
   "source": [
    "valor = int(input('Digite o valor a ser sacado: '))\n",
    "if valor >= 10 and valor <= 600:\n",
    "    #// retorna somente valor inteiro\n",
    "    nota100 = valor // 100\n",
    "    resto100 = valor % 100\n",
    "    print(f'{nota100} notas de R$100,00')\n",
    "    nota50 = resto100 // 50\n",
    "    resto50 = resto100 % 50\n",
    "    print(f'{nota50} notas de R$50,00')\n",
    "    nota10 = resto50 // 10\n",
    "    resto10 = resto50 % 10\n",
    "    print(f'{nota10} notas de R$10,00')\n",
    "    nota5 = resto10 // 5\n",
    "    resto5 = resto10 % 5\n",
    "    print(f'{nota5} notas de R$5,00')\n",
    "    nota1 = resto5 // 1\n",
    "    print(f'{nota1} notas de R$1,00')"
   ]
  },
  {
   "cell_type": "markdown",
   "metadata": {},
   "source": [
    "11. Faça um programa que faça 5 perguntas para uma pessoa sobre um crime. As\n",
    "perguntas são:\n",
    " - \"Telefonou para a vítima?\"\n",
    " - \"Esteve no local do crime?\"\n",
    " - \"Mora perto da vítima?\"\n",
    " - \"Devia para a vítima?\"\n",
    " - \"Já trabalhou com a vítima?\"<br>\n",
    "O programa deve no final emitir uma classificação sobre a participação da pessoa no\n",
    "crime. Se a pessoa responder positivamente a 2 questões ela deve ser classificada\n",
    "como \"Suspeita\", entre 3 e 4 como \"Cúmplice\" e 5 como \"Assassino\". Caso contrário,\n",
    "ele será classificado como \"Inocente\"."
   ]
  },
  {
   "cell_type": "code",
   "execution_count": 12,
   "metadata": {},
   "outputs": [
    {
     "name": "stdout",
     "output_type": "stream",
     "text": [
      "Telefonou para vitima? (sim/nao)sim\n",
      "Esteve no local do crime? (sim/nao)sim\n",
      "Mora perto da vitima? (sim/nao)sim\n",
      "Devia para a vitima? (sim/nao)sim\n",
      "Já trabalhou com a vítima? (sim/nao)sim\n",
      "Assassino\n"
     ]
    }
   ],
   "source": [
    "a = str(input('Telefonou para vitima? (sim/nao)'))\n",
    "b = str(input('Esteve no local do crime? (sim/nao)'))\n",
    "c = str(input('Mora perto da vitima? (sim/nao)'))\n",
    "d = str(input('Devia para a vitima? (sim/nao)'))\n",
    "e = str(input('Já trabalhou com a vítima? (sim/nao)'))\n",
    "qp = 0\n",
    "if a == 'sim':\n",
    "    qp = qp + 1\n",
    "if b == 'sim':\n",
    "    qp = qp + 1\n",
    "if c == 'sim':\n",
    "    qp = qp + 1\n",
    "if d == 'sim':\n",
    "    qp = qp + 1\n",
    "if e == 'sim':\n",
    "    qp = qp + 1\n",
    "if qp  == 2:\n",
    "    print('Suspeita')\n",
    "if 3 <= qp <= 4:\n",
    "    print('Cumplice')\n",
    "if qp == 5:\n",
    "    print('Assassino')\n",
    "if qp <= 1:\n",
    "    print('Inocente')"
   ]
  },
  {
   "cell_type": "markdown",
   "metadata": {},
   "source": [
    "12. Uma fruteira está vendendo frutas com a seguinte tabela de preços:\n",
    "Até 5 Kg Acima de 5 Kg\n",
    "Morango R$ 2,50 por Kg R$ 2,20 por Kg\n",
    "Maçã R$ 1,80 por Kg R$ 1,50 por Kg\n",
    "Se o cliente comprar mais de 8 Kg em frutas ou o valor total da compra ultrapassar\n",
    "R$ 25,00, receberá ainda um desconto de 10% sobre este total. Escreva um\n",
    "algoritmo para ler a quantidade (em Kg) de morangos e a quantidade (em Kg) de\n",
    "maças adquiridas e escreva o valor a ser pago pelo cliente."
   ]
  },
  {
   "cell_type": "code",
   "execution_count": 15,
   "metadata": {},
   "outputs": [
    {
     "name": "stdout",
     "output_type": "stream",
     "text": [
      "Digite a quantidade em quilos de morango: 4\n",
      "Digite a quantidade em quilos de maçã: 4\n",
      "Preço total: R$ 17.2\n"
     ]
    }
   ],
   "source": [
    "mor = float(input('Digite a quantidade em quilos de morango: '))\n",
    "mac = float(input('Digite a quantidade em quilos de maçã: '))\n",
    "\n",
    "if mor <= 5:\n",
    "    preco = 2.5 * mor\n",
    "if mac <= 5:\n",
    "    preco2 = 1.8 * mac\n",
    "if 5 < mor:\n",
    "    preco = 2.2 * mor\n",
    "if 5 < mac:\n",
    "    preco = 1.5 * mac\n",
    "preco_total = preco + preco2\n",
    "if mor + mac > 8 or preco_total > 25:\n",
    "    preco_total = preco_total * 0.9\n",
    "print('Preço total: R$',preco_total)"
   ]
  },
  {
   "cell_type": "markdown",
   "metadata": {},
   "source": [
    "13. Faça um programa que peça uma nota, entre zero e dez. Mostre uma mensagem\n",
    "caso o valor seja inválido e continue pedindo até que o usuário informe um valor\n",
    "válido."
   ]
  },
  {
   "cell_type": "code",
   "execution_count": 16,
   "metadata": {},
   "outputs": [
    {
     "name": "stdout",
     "output_type": "stream",
     "text": [
      "Digite uma nota entre 0 e 10: 3\n",
      "Nova valida:  3.0\n"
     ]
    }
   ],
   "source": [
    "nota = float(input('Digite uma nota entre 0 e 10: '))\n",
    "while nota < 0 or nota > 10:\n",
    "    print('Nota invalida')\n",
    "    nota = float(input('Digite uma nota valida: '))\n",
    "else:\n",
    "    print('Nova valida: ',nota)"
   ]
  },
  {
   "cell_type": "markdown",
   "metadata": {},
   "source": [
    "13. Faça um programa que leia e valide as seguintes informações:\n",
    " - Nome: maior que 3 caracteres;\n",
    " - Idade: entre 0 e 150;\n",
    " - Salário: maior que zero;\n",
    " - Sexo: 'f' ou 'm';\n",
    " - Estado Civil: 's', 'c', 'v', 'd';"
   ]
  },
  {
   "cell_type": "code",
   "execution_count": 17,
   "metadata": {},
   "outputs": [
    {
     "name": "stdout",
     "output_type": "stream",
     "text": [
      "Digite um nome com mais de 3 caracteres: teste\n",
      "Digite uma idade entre 0 e 150: 4\n",
      "Digite um salario com valor maior que zero: 2\n",
      "Digite o sexo (m/f): m\n",
      "Digite o estado civil (s/c/v/d)s\n",
      "Nome: teste \n",
      "Idade: 4 \n",
      "Salario: R$ 2.0 \n",
      "Genero: m \n",
      "Estado civil: s\n"
     ]
    }
   ],
   "source": [
    "nome = str(input('Digite um nome com mais de 3 caracteres: '))\n",
    "while len(nome) <= 3:\n",
    "    nome = str(input('Digite um nome com mais de 3 caracteres: '))\n",
    "idade = int(input('Digite uma idade entre 0 e 150: '))\n",
    "while idade < 0 or idade > 150:\n",
    "    idade = int(input('Digite uma idade entre 0 e 150: '))\n",
    "salario = float(input('Digite um salario com valor maior que zero: '))\n",
    "while salario < 0:\n",
    "    salario = float(input('Digite um salario com valor maior que zero: '))\n",
    "sexo = ['f','m']\n",
    "genero = str(input('Digite o sexo (m/f): '))\n",
    "while not genero in sexo:\n",
    "    genero = str(input('Digite o sexo (m/f): '))\n",
    "civil = ['s','c','v','d']\n",
    "ec = str(input('Digite o estado civil (s/c/v/d)'))\n",
    "while not ec in civil:\n",
    "    ec = str(input('Digite o estado civil (s/c/v/d)'))\n",
    "print('Nome:',nome,'\\nIdade:',idade,'\\nSalario: R$',salario,'\\nGenero:',genero,'\\nEstado civil:',ec)"
   ]
  },
  {
   "cell_type": "markdown",
   "metadata": {},
   "source": [
    "14. Faça um programa que leia 5 números e informe o maior número."
   ]
  },
  {
   "cell_type": "code",
   "execution_count": 31,
   "metadata": {},
   "outputs": [
    {
     "name": "stdout",
     "output_type": "stream",
     "text": [
      "Digite um numero: 10\n",
      "Digite um numero: 20\n",
      "Digite um numero: 30\n",
      "Digite um numero: 40\n",
      "Digite um numero: 50\n",
      "Maior numero: 50\n"
     ]
    }
   ],
   "source": [
    "list = []\n",
    "while len(list) != 5:\n",
    "    n = int(input('Digite um numero: '))\n",
    "    list.append(n)\n",
    "print('Maior numero:',max(list))"
   ]
  },
  {
   "cell_type": "markdown",
   "metadata": {},
   "source": [
    "15. Faça um programa que leia 5 números e informe a soma e a média dos números."
   ]
  },
  {
   "cell_type": "code",
   "execution_count": 32,
   "metadata": {},
   "outputs": [
    {
     "name": "stdout",
     "output_type": "stream",
     "text": [
      "Digite um numero: 1\n",
      "Digite um numero: 1\n",
      "Digite um numero: 1\n",
      "Digite um numero: 1\n",
      "Digite um numero: 1\n",
      "Soma dos numeros: 5\n",
      "Media dos numero:  1.0\n"
     ]
    }
   ],
   "source": [
    "list = []\n",
    "while len(list) != 5:\n",
    "    n = int(input('Digite um numero: '))\n",
    "    list.append(n)\n",
    "    soma = sum(list)\n",
    "    media = soma/len(list)\n",
    "print('Soma dos numeros:',soma)\n",
    "print('Media dos numeros: ',media)"
   ]
  },
  {
   "cell_type": "code",
   "execution_count": null,
   "metadata": {},
   "outputs": [],
   "source": [
    "#usando for e range\n",
    "soma = 0\n",
    "for n in range(5):\n",
    "    soma += int(input(\"Escreva um numero: \"))\n",
    "print(\"soma: \", soma)\n",
    "print(\"media: \", soma/5)"
   ]
  },
  {
   "cell_type": "markdown",
   "metadata": {},
   "source": [
    "16. Faça um programa que imprima na tela apenas os números ímpares entre 1 e 50."
   ]
  },
  {
   "cell_type": "code",
   "execution_count": 35,
   "metadata": {},
   "outputs": [
    {
     "name": "stdout",
     "output_type": "stream",
     "text": [
      "3\n",
      "6\n",
      "9\n",
      "12\n",
      "15\n",
      "18\n",
      "21\n",
      "24\n",
      "27\n",
      "30\n",
      "33\n",
      "36\n",
      "39\n",
      "42\n",
      "45\n",
      "48\n"
     ]
    }
   ],
   "source": [
    "cont = 0\n",
    "while cont < 50:\n",
    "    cont += 1\n",
    "    if cont % 3 == 0:\n",
    "        print(cont)"
   ]
  },
  {
   "cell_type": "markdown",
   "metadata": {},
   "source": [
    "17. Desenvolva um gerador de tabuada, capaz de gerar a tabuada de qualquer\n",
    "número inteiro entre 1 a 10. O usuário deve informar de qual numero ele deseja ver\n",
    "a tabuada. A saída deve ser conforme o exemplo abaixo:\n",
    "Tabuada de 5:\n",
    "5 X 1 = 5\n",
    "5 X 2 = 10\n",
    "...\n",
    "5 X 10 = 50"
   ]
  },
  {
   "cell_type": "code",
   "execution_count": 4,
   "metadata": {},
   "outputs": [
    {
     "name": "stdout",
     "output_type": "stream",
     "text": [
      "Digite um numero de 1 a 10 para calcular a tabuada: 2\n",
      "2 x 1 = 2\n",
      "2 x 2 = 4\n",
      "2 x 3 = 6\n",
      "2 x 4 = 8\n",
      "2 x 5 = 10\n",
      "2 x 6 = 12\n",
      "2 x 7 = 14\n",
      "2 x 8 = 16\n",
      "2 x 9 = 18\n",
      "2 x 10 = 20\n"
     ]
    }
   ],
   "source": [
    "cont = 0\n",
    "num = int(input('Digite um numero de 1 a 10 para calcular a tabuada: '))\n",
    "while cont < 10:\n",
    "    cont += 1\n",
    "    print(f'{num} x {cont} =',cont * num)"
   ]
  },
  {
   "cell_type": "markdown",
   "metadata": {},
   "source": [
    "18. A série de Fibonacci é formada pela seqüência 1,1,2,3,5,8,13,21,34,55,... Faça um\n",
    "programa capaz de gerar a série até o n−ésimo termo."
   ]
  },
  {
   "cell_type": "code",
   "execution_count": 6,
   "metadata": {},
   "outputs": [
    {
     "name": "stdout",
     "output_type": "stream",
     "text": [
      "Digite o n-esimo termo100\n",
      "[1, 1, 2, 3, 5, 8, 13, 21, 34, 55, 89, 144, 233, 377, 610, 987, 1597, 2584, 4181, 6765, 10946, 17711, 28657, 46368, 75025, 121393, 196418, 317811, 514229, 832040, 1346269, 2178309, 3524578, 5702887, 9227465, 14930352, 24157817, 39088169, 63245986, 102334155, 165580141, 267914296, 433494437, 701408733, 1134903170, 1836311903, 2971215073, 4807526976, 7778742049, 12586269025, 20365011074, 32951280099, 53316291173, 86267571272, 139583862445, 225851433717, 365435296162, 591286729879, 956722026041, 1548008755920, 2504730781961, 4052739537881, 6557470319842, 10610209857723, 17167680177565, 27777890035288, 44945570212853, 72723460248141, 117669030460994, 190392490709135, 308061521170129, 498454011879264, 806515533049393, 1304969544928657, 2111485077978050, 3416454622906707, 5527939700884757, 8944394323791464, 14472334024676221, 23416728348467685, 37889062373143906, 61305790721611591, 99194853094755497, 160500643816367088, 259695496911122585, 420196140727489673, 679891637638612258, 1100087778366101931, 1779979416004714189, 2880067194370816120, 4660046610375530309, 7540113804746346429, 12200160415121876738, 19740274219868223167, 31940434634990099905, 51680708854858323072, 83621143489848422977, 135301852344706746049, 218922995834555169026, 354224848179261915075]\n"
     ]
    }
   ],
   "source": [
    "n = int(input('Digite o n-esimo termo'))\n",
    "lista = [1,1]\n",
    "for i in range(2,n):\n",
    "    lista.append(lista[i-2]+lista[i-1])\n",
    "if n == 1:\n",
    "    print([1])\n",
    "else:\n",
    "    print(lista)"
   ]
  },
  {
   "cell_type": "markdown",
   "metadata": {},
   "source": [
    "19. Faça um programa que calcule o fatorial de um número inteiro fornecido pelo\n",
    "usuário. Ex.: 5!=5.4.3.2.1=120"
   ]
  },
  {
   "cell_type": "code",
   "execution_count": 4,
   "metadata": {},
   "outputs": [
    {
     "name": "stdout",
     "output_type": "stream",
     "text": [
      "Digite o numero que deseja calcular o fatorial: 5\n",
      "120\n"
     ]
    }
   ],
   "source": [
    "fat = int(input('Digite o numero que deseja calcular o fatorial: '))\n",
    "for i in range(1,fat):\n",
    "    fat = fat * i\n",
    "print(fat)"
   ]
  },
  {
   "cell_type": "markdown",
   "metadata": {},
   "source": [
    "20. O Sr. Manoel Joaquim possui uma grande loja de artigos de RS 1,99, com cerca\n",
    "de 10 caixas. Para agilizar o cálculo de quanto cada cliente deve pagar ele\n",
    "desenvolveu um tabela que contém o número de itens que o cliente comprou e ao\n",
    "lado o valor da conta. Desta forma a atendente do caixa precisa apenas contar\n",
    "quantos itens o cliente está levando e olhar na tabela de preços. Você foi contratado\n",
    "para desenvolver o programa que monta esta tabela de preços, que conterá os\n",
    "preços de 1 até 50 produtos, conforme o exemplo abaixo:\n",
    "Lojas Quase Dois - Tabela de preços <br>\n",
    " - 1 - R$ 1.99\n",
    " - 2 - R$ 3.98\n",
    "...\n",
    " - 50 - R$ 99.50"
   ]
  },
  {
   "cell_type": "code",
   "execution_count": 17,
   "metadata": {},
   "outputs": [
    {
     "name": "stdout",
     "output_type": "stream",
     "text": [
      "Preco de 1 item(s): R$ 1.99\n",
      "Preco de 2 item(s): R$ 3.98\n",
      "Preco de 3 item(s): R$ 5.97\n",
      "Preco de 4 item(s): R$ 7.96\n",
      "Preco de 5 item(s): R$ 9.95\n",
      "Preco de 6 item(s): R$ 11.94\n",
      "Preco de 7 item(s): R$ 13.93\n",
      "Preco de 8 item(s): R$ 15.92\n",
      "Preco de 9 item(s): R$ 17.91\n",
      "Preco de 10 item(s): R$ 19.9\n",
      "Preco de 11 item(s): R$ 21.89\n",
      "Preco de 12 item(s): R$ 23.88\n",
      "Preco de 13 item(s): R$ 25.87\n",
      "Preco de 14 item(s): R$ 27.86\n",
      "Preco de 15 item(s): R$ 29.85\n",
      "Preco de 16 item(s): R$ 31.84\n",
      "Preco de 17 item(s): R$ 33.83\n",
      "Preco de 18 item(s): R$ 35.82\n",
      "Preco de 19 item(s): R$ 37.81\n",
      "Preco de 20 item(s): R$ 39.8\n",
      "Preco de 21 item(s): R$ 41.79\n",
      "Preco de 22 item(s): R$ 43.78\n",
      "Preco de 23 item(s): R$ 45.77\n",
      "Preco de 24 item(s): R$ 47.76\n",
      "Preco de 25 item(s): R$ 49.75\n",
      "Preco de 26 item(s): R$ 51.74\n",
      "Preco de 27 item(s): R$ 53.73\n",
      "Preco de 28 item(s): R$ 55.72\n",
      "Preco de 29 item(s): R$ 57.71\n",
      "Preco de 30 item(s): R$ 59.7\n",
      "Preco de 31 item(s): R$ 61.69\n",
      "Preco de 32 item(s): R$ 63.68\n",
      "Preco de 33 item(s): R$ 65.67\n",
      "Preco de 34 item(s): R$ 67.66\n",
      "Preco de 35 item(s): R$ 69.65\n",
      "Preco de 36 item(s): R$ 71.64\n",
      "Preco de 37 item(s): R$ 73.63\n",
      "Preco de 38 item(s): R$ 75.62\n",
      "Preco de 39 item(s): R$ 77.61\n",
      "Preco de 40 item(s): R$ 79.6\n",
      "Preco de 41 item(s): R$ 81.59\n",
      "Preco de 42 item(s): R$ 83.58\n",
      "Preco de 43 item(s): R$ 85.57\n",
      "Preco de 44 item(s): R$ 87.56\n",
      "Preco de 45 item(s): R$ 89.55\n",
      "Preco de 46 item(s): R$ 91.54\n",
      "Preco de 47 item(s): R$ 93.53\n",
      "Preco de 48 item(s): R$ 95.52\n",
      "Preco de 49 item(s): R$ 97.51\n",
      "Preco de 50 item(s): R$ 99.5\n"
     ]
    }
   ],
   "source": [
    "for i in range(1,51):\n",
    "    preco = 1.99 * i\n",
    "    print(f'Preco de {i} item(s): R$',preco)"
   ]
  },
  {
   "cell_type": "markdown",
   "metadata": {},
   "source": [
    "21. O Sr. Manoel Joaquim acaba de adquirir uma panificadora e pretende implantar\n",
    "a metodologia da tabelinha, que já é um sucesso na sua loja de 1,99. Você foi\n",
    "contratado para desenvolver o programa que monta a tabela de preços de pães, de\n",
    "1 até 50 pães, a partir do preço do pão informado pelo usuário, conforme o exemplo\n",
    "abaixo:\n",
    " - Preço do pão: RS 0.18\n",
    " - Panificadora Pão de Ontem - Tabela de preços\n",
    " - 1 - RS 0.18\n",
    " - 2 - RS 0.36\n",
    "...\n",
    " - 50 - R$ 9.00"
   ]
  },
  {
   "cell_type": "code",
   "execution_count": 28,
   "metadata": {},
   "outputs": [
    {
     "name": "stdout",
     "output_type": "stream",
     "text": [
      "Digite o preco de uma unidade de pão francês: 0.15\n",
      "preco de 1 pães: R$0.15%.2f\n",
      "preco de 2 pães: R$0.3%.2f\n",
      "preco de 3 pães: R$0.44999999999999996%.2f\n",
      "preco de 4 pães: R$0.6%.2f\n",
      "preco de 5 pães: R$0.75%.2f\n",
      "preco de 6 pães: R$0.8999999999999999%.2f\n",
      "preco de 7 pães: R$1.05%.2f\n",
      "preco de 8 pães: R$1.2%.2f\n",
      "preco de 9 pães: R$1.3499999999999999%.2f\n",
      "preco de 10 pães: R$1.5%.2f\n",
      "preco de 11 pães: R$1.65%.2f\n",
      "preco de 12 pães: R$1.7999999999999998%.2f\n",
      "preco de 13 pães: R$1.95%.2f\n",
      "preco de 14 pães: R$2.1%.2f\n",
      "preco de 15 pães: R$2.25%.2f\n",
      "preco de 16 pães: R$2.4%.2f\n",
      "preco de 17 pães: R$2.55%.2f\n",
      "preco de 18 pães: R$2.6999999999999997%.2f\n",
      "preco de 19 pães: R$2.85%.2f\n",
      "preco de 20 pães: R$3.0%.2f\n",
      "preco de 21 pães: R$3.15%.2f\n",
      "preco de 22 pães: R$3.3%.2f\n",
      "preco de 23 pães: R$3.4499999999999997%.2f\n",
      "preco de 24 pães: R$3.5999999999999996%.2f\n",
      "preco de 25 pães: R$3.75%.2f\n",
      "preco de 26 pães: R$3.9%.2f\n",
      "preco de 27 pães: R$4.05%.2f\n",
      "preco de 28 pães: R$4.2%.2f\n",
      "preco de 29 pães: R$4.35%.2f\n",
      "preco de 30 pães: R$4.5%.2f\n",
      "preco de 31 pães: R$4.6499999999999995%.2f\n",
      "preco de 32 pães: R$4.8%.2f\n",
      "preco de 33 pães: R$4.95%.2f\n",
      "preco de 34 pães: R$5.1%.2f\n",
      "preco de 35 pães: R$5.25%.2f\n",
      "preco de 36 pães: R$5.3999999999999995%.2f\n",
      "preco de 37 pães: R$5.55%.2f\n",
      "preco de 38 pães: R$5.7%.2f\n",
      "preco de 39 pães: R$5.85%.2f\n",
      "preco de 40 pães: R$6.0%.2f\n",
      "preco de 41 pães: R$6.1499999999999995%.2f\n",
      "preco de 42 pães: R$6.3%.2f\n",
      "preco de 43 pães: R$6.45%.2f\n",
      "preco de 44 pães: R$6.6%.2f\n",
      "preco de 45 pães: R$6.75%.2f\n",
      "preco de 46 pães: R$6.8999999999999995%.2f\n",
      "preco de 47 pães: R$7.05%.2f\n",
      "preco de 48 pães: R$7.199999999999999%.2f\n",
      "preco de 49 pães: R$7.35%.2f\n",
      "preco de 50 pães: R$7.5%.2f\n"
     ]
    }
   ],
   "source": [
    "preco = float(input(\"Digite o preco de uma unidade de pão francês: \"))\n",
    "for i in range(1,51):\n",
    "    valor = i * preco\n",
    "    print(f'preco de {i} pães: R${valor}%.2f')"
   ]
  },
  {
   "cell_type": "markdown",
   "metadata": {},
   "source": [
    "22. O Sr. Manoel Joaquim expandiu seus negócios para além dos negócios de 1,99 e\n",
    "agora possui uma loja de conveniências. Faça um programa que implemente uma\n",
    "caixa registradora rudimentar. O programa deverá receber um número\n",
    "desconhecido de valores referentes aos preços das mercadorias. Um valor zero deve\n",
    "ser informado pelo operador para indicar o final da compra. O programa deve então\n",
    "mostrar o total da compra e perguntar o valor em dinheiro que o cliente forneceu,\n",
    "para então calcular e mostrar o valor do troco. Após esta operação, o programa\n",
    "deverá voltar ao ponto inicial, para registrar a próxima compra. A saída deve ser\n",
    "conforme o exemplo abaixo:<br>\n",
    "Lojas Tabajara<br>\n",
    " - Produto 1: RS 2.20\n",
    " - Produto 2: RS 5.80\n",
    " - Produto 3: RS 0\n",
    " - Total: RS 9.00\n",
    " - Dinheiro: RS 20.00\n",
    " - Troco: RS 11.00"
   ]
  },
  {
   "cell_type": "code",
   "execution_count": 34,
   "metadata": {},
   "outputs": [
    {
     "name": "stdout",
     "output_type": "stream",
     "text": [
      "Digite o preço do produto ou digite 0 para sair: 15\n",
      "Produto 1: R$ 15.0\n",
      "Digite o preço do produto ou digite 0 para sair: 12\n",
      "Produto 2: R$ 12.0\n",
      "Digite o preço do produto ou digite 0 para sair: 13\n",
      "Produto 3: R$ 13.0\n",
      "Digite o preço do produto ou digite 0 para sair: 11\n",
      "Produto 4: R$ 11.0\n",
      "Digite o preço do produto ou digite 0 para sair: 2.5\n",
      "Produto 5: R$ 2.5\n",
      "Digite o preço do produto ou digite 0 para sair: 0\n",
      "Valor total dos produtos: 53.5\n",
      "Digite a quantidade paga: 60\n",
      "Troco:  6.5\n"
     ]
    }
   ],
   "source": [
    "preco = -1\n",
    "cont = 0\n",
    "total = 0\n",
    "while preco != 0:\n",
    "    preco = float(input('Digite o preço do produto ou digite 0 para sair: '))\n",
    "    total += preco\n",
    "    cont += 1\n",
    "    if preco > 0:\n",
    "        print(f'Produto {cont}: R$ {preco}')\n",
    "    elif preco == 0:\n",
    "        print(f'Valor total dos produtos: {total}')\n",
    "        valor = float(input('Digite a quantidade paga: '))\n",
    "        print('Troco: ',valor-total)"
   ]
  },
  {
   "cell_type": "markdown",
   "metadata": {},
   "source": [
    "23 -  Foi feita uma estatística em cinco cidades brasileiras para coletar dados sobre\n",
    "acidentes de trânsito. Foram obtidos os seguintes dados:\n",
    "- Código da cidade;\n",
    "- Número de veículos de passeio (em 1999);\n",
    "- Número de acidentes de trânsito com vítimas (em 1999). Deseja-se saber:\n",
    "- Qual o maior e menor índice de acidentes de transito e a que cidade pertence;\n",
    "- Qual a média de veículos nas cinco cidades juntas;\n",
    "- Qual a média de acidentes de trânsito nas cidades com menos de 2.000 veículos de\n",
    "passeio."
   ]
  },
  {
   "cell_type": "code",
   "execution_count": 3,
   "metadata": {},
   "outputs": [
    {
     "name": "stdout",
     "output_type": "stream",
     "text": [
      "Digite o codigo da cidade: 1\n",
      "Digite o numero de veiculos da cidade: 100\n",
      "Digite o numero de acidentes de transito: 10\n",
      "Digite o codigo da cidade: 2\n",
      "Digite o numero de veiculos da cidade: 200\n",
      "Digite o numero de acidentes de transito: 5\n",
      "Digite o codigo da cidade: 3\n",
      "Digite o numero de veiculos da cidade: 250\n",
      "Digite o numero de acidentes de transito: 12\n",
      "Digite o codigo da cidade: 4\n",
      "Digite o numero de veiculos da cidade: 400\n",
      "Digite o numero de acidentes de transito: 20\n",
      "Digite o codigo da cidade: 5\n",
      "Digite o numero de veiculos da cidade: 500\n",
      "Digite o numero de acidentes de transito: 18\n",
      "Media de veiculos entre as cidades:  290.0\n",
      "Media de acidentes em cidades com menos de 2000 veiculos:  13.0\n",
      "Maior indice de acidentes: codigo: 4 numero de acidentes: 20\n",
      "Menor indice de acidentes: codigo: 2 numero de acidentes: 5\n"
     ]
    }
   ],
   "source": [
    "dict = {}\n",
    "while len(dict) < 5:\n",
    "    codigo = int(input('Digite o codigo da cidade: '))\n",
    "    veiculos = int(input('Digite o numero de veiculos da cidade: '))\n",
    "    acidentes = int(input('Digite o numero de acidentes de transito: '))\n",
    "    dict[codigo] = [veiculos,acidentes]\n",
    "media = 0\n",
    "media_acidentes = 0\n",
    "soma = 0\n",
    "soma_acidentes = 0\n",
    "cont = 0\n",
    "menor = [dict[1][0],dict[1][1]]\n",
    "maior = [dict[1][0],dict[1][1]]\n",
    "for i in dict:\n",
    "    soma += dict[i][0]\n",
    "    if dict[i][0] < 2000:\n",
    "        soma_acidentes += dict[i][1]\n",
    "        cont += 1\n",
    "    if dict[i][1] < menor[1]:\n",
    "        menor[1] = dict[i][1]\n",
    "        menor[0] = i\n",
    "    if dict[i][1] > maior[1]:\n",
    "        maior[1] = dict[i][1]\n",
    "        maior[0] = i\n",
    "        \n",
    "media = soma/5\n",
    "media_acidentes = soma_acidentes/cont\n",
    "print('Media de veiculos entre as cidades: ', media)\n",
    "print('Media de acidentes em cidades com menos de 2000 veiculos: ', media_acidentes)\n",
    "print(f'Maior indice de acidentes: codigo: {maior[0]} numero de acidentes: {maior[1]}')\n",
    "print(f'Menor indice de acidentes: codigo: {menor[0]} numero de acidentes: {menor[1]}')"
   ]
  },
  {
   "cell_type": "markdown",
   "metadata": {},
   "source": [
    "24. Faça um programa que receba o valor de uma dívida e mostre uma tabela com\n",
    "os seguintes dados: valor da dívida, valor dos juros, quantidade de parcelas e valor\n",
    "da parcela.\n",
    "Os juros e a quantidade de parcelas seguem a tabela abaixo:\n",
    "Quantidade de Parcelas % de Juros sobre o valor inicial da dívida\n",
    "1 0\n",
    "3 10\n",
    "6 15\n",
    "9 20\n",
    "12 25\n",
    "Exemplo de saída do programa:\n",
    "Valor da Dívida Valor dos Juros Quantidade de Parcelas Valor da Parcela\n",
    "R$ 1.000,00 0 1 R$ 1.000,00\n",
    "R$ 1.100,00 100 3 R$ 366,00\n",
    "R$ 1.150,00 150 6 R$ 191,67"
   ]
  },
  {
   "cell_type": "code",
   "execution_count": 3,
   "metadata": {},
   "outputs": [
    {
     "name": "stdout",
     "output_type": "stream",
     "text": [
      "Digite o valor da sua divida: 1200\n",
      "Valor da divida     Valor do Juros     Quantidade de Parcelas     Valor da parcela\n",
      "1200.0                    0                  1                     1200.0\n",
      "1320.0                    10                  3                     440.0\n",
      "1380.0                    15                  6                     230.0\n",
      "1440.0                    20                  9                     160.0\n",
      "1500.0                    25                  12                     125.0\n"
     ]
    }
   ],
   "source": [
    "divida = float(input('Digite o valor da sua divida: '))\n",
    "print('Valor da divida     Valor do Juros     Quantidade de Parcelas     Valor da parcela')\n",
    "for i in range(0,5):\n",
    "    if i == 0:\n",
    "        juros = 0\n",
    "    elif i == 1:\n",
    "        juros = 10\n",
    "    elif i == 2:\n",
    "        juros = 15\n",
    "    elif i == 3:\n",
    "        juros = 20\n",
    "    elif i == 4:\n",
    "        juros = 25\n",
    "    valor_juros = divida * (juros/100)\n",
    "    divida_final = divida + valor_juros\n",
    "    if i == 0:\n",
    "        parcela = 1\n",
    "    elif i == 1:\n",
    "        parcela = 3\n",
    "    elif i == 2:\n",
    "        parcela = 6\n",
    "    elif i == 3:\n",
    "        parcela = 9\n",
    "    elif i == 4:\n",
    "        parcela = 12\n",
    "    if parcela > 0:\n",
    "        valor_parcela = divida_final / parcela \n",
    "    print(f'{divida_final}                    {juros}                  {parcela}                     {valor_parcela}')"
   ]
  },
  {
   "cell_type": "markdown",
   "metadata": {},
   "source": [
    "25. Faça um programa que mostre os n termos da Série a seguir:\n",
    "S = 1/1 + 2/3 + 3/5 + 4/7 + 5/9 + ... + n/m.\n",
    "Imprima no final a soma da série."
   ]
  },
  {
   "cell_type": "code",
   "execution_count": 3,
   "metadata": {},
   "outputs": [
    {
     "name": "stdout",
     "output_type": "stream",
     "text": [
      "Digite onde deseja terminar a serie : 15\n",
      "S  =  1/3 + 2/4 + 3/5 + 4/6 + 5/7 + 6/8 + 7/9 + 8/10 + 9/11 + 10/12 + 11/13 + 12/14 + 13/15 + 14/16 + 15/17\n",
      "Resultado da soma:  11.120894954718484\n"
     ]
    }
   ],
   "source": [
    "a = int(input('Digite onde deseja terminar a serie : '))\n",
    "b = 0\n",
    "soma = 0\n",
    "s = ''\n",
    "for i in range(1,a+1):\n",
    "    b = i + 2\n",
    "    soma += i / b\n",
    "    s += str(i) + '/' + str(b) \n",
    "    if i != a:\n",
    "        s += ' + '\n",
    "print('S  = ',s)\n",
    "print('Resultado da soma: ', soma)"
   ]
  }
 ],
 "metadata": {
  "kernelspec": {
   "display_name": "Python 3",
   "language": "python",
   "name": "python3"
  },
  "language_info": {
   "codemirror_mode": {
    "name": "ipython",
    "version": 3
   },
   "file_extension": ".py",
   "mimetype": "text/x-python",
   "name": "python",
   "nbconvert_exporter": "python",
   "pygments_lexer": "ipython3",
   "version": "3.6.7"
  }
 },
 "nbformat": 4,
 "nbformat_minor": 2
}
