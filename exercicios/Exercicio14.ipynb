{
 "cells": [
  {
   "cell_type": "markdown",
   "metadata": {},
   "source": [
    "### Lista 14\n",
    "**Nome**:Mateus Henrique Silva Paiva <br>\n",
    "**RA**: 817123241"
   ]
  },
  {
   "cell_type": "code",
   "execution_count": 9,
   "metadata": {},
   "outputs": [],
   "source": [
    "def maybe(fnc):\n",
    "    \n",
    "    def inner(*args):\n",
    "        \n",
    "        for a in args:\n",
    "            if isinstance(a, Exception):\n",
    "                return a\n",
    "        try:\n",
    "            return fnc(*args)\n",
    "        except Exception as e:\n",
    "            return e\n",
    "    return inner"
   ]
  },
  {
   "cell_type": "markdown",
   "metadata": {},
   "source": [
    "1 Defina a função soma_nat que recebe como argumento um número natural n\n",
    "e devolve a soma de todos os números naturais até n.\n",
    " - Ex: soma_nat(5) = 15"
   ]
  },
  {
   "cell_type": "code",
   "execution_count": 15,
   "metadata": {},
   "outputs": [
    {
     "name": "stdout",
     "output_type": "stream",
     "text": [
      "'>' not supported between instances of 'str' and 'int'\n",
      "15\n"
     ]
    }
   ],
   "source": [
    "soma_nat = maybe(lambda n: n + soma_nat(n-1) if n > 0 else 0)\n",
    "\n",
    "print(soma_nat('a'))\n",
    "print(soma_nat(5))\n",
    "\n",
    "assert(soma_nat(5) == 15)"
   ]
  },
  {
   "cell_type": "markdown",
   "metadata": {},
   "source": [
    "2 Defina a função div que recebe como argumentos dois números naturais m\n",
    "e n e devolve o resultado da divisão inteira de m por n. Neste exercício você não\n",
    "pode recorrer às operações aritméticas de multiplicação, divisão e resto da divisão\n",
    "inteira.\n",
    " - Ex: div(7,2) = 3"
   ]
  },
  {
   "cell_type": "code",
   "execution_count": 17,
   "metadata": {},
   "outputs": [
    {
     "name": "stdout",
     "output_type": "stream",
     "text": [
      "3\n",
      "'>=' not supported between instances of 'str' and 'int'\n"
     ]
    }
   ],
   "source": [
    "div = maybe(lambda m,n: 1 + div((m-n),n) if m >= n else 0)\n",
    "\n",
    "print(div(7,2))\n",
    "print(div('a',2))\n",
    "\n",
    "assert(div(7,2) == 3)"
   ]
  },
  {
   "cell_type": "markdown",
   "metadata": {},
   "source": [
    "3 Defina a função prim_alg que recebe como argumento um número natural e\n",
    "devolve o primeiro algarismo (o mais significativo) na representação decimal de n.\n",
    " - Ex: prim_alg(5649) = 5\n",
    " - Ex: prim_alg(7) = 7"
   ]
  },
  {
   "cell_type": "code",
   "execution_count": 22,
   "metadata": {},
   "outputs": [
    {
     "name": "stdout",
     "output_type": "stream",
     "text": [
      "5\n",
      "invalid literal for int() with base 10: 'x'\n"
     ]
    }
   ],
   "source": [
    "prim_alg = maybe(lambda n: int(str(n)[0]))\n",
    "\n",
    "print(prim_alg(5649))\n",
    "print(prim_alg('x'))\n",
    "\n",
    "assert(prim_alg(5649) == 5)"
   ]
  },
  {
   "cell_type": "markdown",
   "metadata": {},
   "source": [
    "4 Defina a função prod_lista que recebe como argumento uma lista de inteiros e\n",
    "devolve o produto dos seus elementos.\n",
    " - Ex: prod_lista([1,2,3,4,5,6]) = 720"
   ]
  },
  {
   "cell_type": "code",
   "execution_count": 27,
   "metadata": {},
   "outputs": [
    {
     "name": "stdout",
     "output_type": "stream",
     "text": [
      "720\n",
      "object of type 'int' has no len()\n",
      "'str' object has no attribute 'pop'\n"
     ]
    }
   ],
   "source": [
    "prod_lista = maybe(lambda w: w.pop() * prod_lista(w) if len(w) > 0 else 1)\n",
    "\n",
    "print(prod_lista([1,2,3,4,5,6]))\n",
    "print(prod_lista(1))\n",
    "print(prod_lista('a'))\n",
    "\n",
    "assert(prod_lista([1,2,3,4,5,6]) == 720)"
   ]
  },
  {
   "cell_type": "markdown",
   "metadata": {},
   "source": [
    "5 Defina a função contem_parQ que recebe como argumento uma lista de números\n",
    "inteiros w e devolve True se w contém um número par e False em caso contrário.\n",
    " - Ex: contem_parQ([2,3,1,2,3,4]) = True\n",
    " - Ex: contem_parQ([1,3,5,7]) = False"
   ]
  },
  {
   "cell_type": "code",
   "execution_count": 30,
   "metadata": {},
   "outputs": [
    {
     "name": "stdout",
     "output_type": "stream",
     "text": [
      "True\n",
      "False\n",
      "'str' object has no attribute 'pop'\n"
     ]
    }
   ],
   "source": [
    "contem_parQ = maybe(lambda w: True if w.pop() % 2 == 0 else contem_parQ(w) if len(w) > 0 else False)\n",
    "\n",
    "print(contem_parQ([2,3,1,2,3,4]))\n",
    "print(contem_parQ([1,3,5,7]))\n",
    "print(contem_parQ('a'))\n",
    "\n",
    "assert(contem_parQ([2,3,1]) == True)\n",
    "assert(contem_parQ([1,3,5]) == False)"
   ]
  },
  {
   "cell_type": "markdown",
   "metadata": {},
   "source": [
    "6 Defina a função todos_imparesQ que recebe como argumento uma lista de\n",
    "números inteiros w e devolve True se w contém apenas números ímpares e False\n",
    "em caso contrário.\n",
    " - Ex: todos_imparesQ([1,3,5,7]) = True\n",
    " - Ex: todos_imparesQ([]) = True\n",
    " - Ex: todos_imparesQ([1,2,3,4,5]) = False"
   ]
  },
  {
   "cell_type": "code",
   "execution_count": 36,
   "metadata": {},
   "outputs": [
    {
     "name": "stdout",
     "output_type": "stream",
     "text": [
      "True\n",
      "False\n",
      "True\n",
      "'str' object has no attribute 'pop'\n"
     ]
    }
   ],
   "source": [
    "todos_imparesQ = maybe(lambda w: True if len(w) == 0 else True if w.pop() % 2 != 0 and todos_imparesQ(w) else False)\n",
    "\n",
    "print(todos_imparesQ([1,3,5,7]))\n",
    "print(todos_imparesQ([1,3,4]))\n",
    "print(todos_imparesQ([]))\n",
    "print(todos_imparesQ('a'))\n",
    "\n",
    "assert(todos_imparesQ([1,3,5]) == True)\n",
    "assert(todos_imparesQ([2,4]) == False)\n",
    "assert(todos_imparesQ([]) == True)"
   ]
  },
  {
   "cell_type": "markdown",
   "metadata": {},
   "source": [
    "7 Defina a função pertenceQ que recebe como argumentos uma lista de números\n",
    "inteiros w e um número inteiro n e devolve True se n ocorre em w e False em\n",
    "caso contrário.\n",
    " - Ex: pertenceQ([1,2,3],1) = True\n",
    " - Ex: pertenceQ([1,2,3],2) = True\n",
    " - Ex: pertenceQ([1,2,3],3) = True\n",
    " - Ex: pertenceQ([1,2,3],4) = False"
   ]
  },
  {
   "cell_type": "code",
   "execution_count": 39,
   "metadata": {},
   "outputs": [
    {
     "name": "stdout",
     "output_type": "stream",
     "text": [
      "True\n",
      "False\n"
     ]
    }
   ],
   "source": [
    "pertenceQ = maybe(lambda w,n: True if w.pop() == n else pertenceQ(w,n) if len(w) > 0 else False)\n",
    "\n",
    "print(pertenceQ([1,2,3],1))\n",
    "print(pertenceQ([1,2,3],4))\n",
    "\n",
    "assert(pertenceQ([1,2,3],1) == True)\n",
    "assert(pertenceQ([1,2,3],4) == False)"
   ]
  },
  {
   "cell_type": "markdown",
   "metadata": {},
   "source": [
    "8 Defina a função junta que recebe como argumentos duas listas de números\n",
    "inteiros w1 e w2 e devolve a concatenação de w1 com w2 .\n",
    " - Ex: junta([1,2,3],[4,5,6]) = [1, 2, 3, 4, 5, 6]\n",
    " - Ex: junta([],[4,5,6]) = [4, 5, 6]\n",
    " - Ex: junta([1,2,3],[]) = [1, 2, 3]"
   ]
  },
  {
   "cell_type": "code",
   "execution_count": 40,
   "metadata": {},
   "outputs": [
    {
     "name": "stdout",
     "output_type": "stream",
     "text": [
      "[1, 2, 3, 4, 5, 6]\n"
     ]
    }
   ],
   "source": [
    "junta = maybe(lambda w1,w2: w2 if len(w1)== 0 else w1 if len(w2) == 0 else w1 \\\n",
    "    if len(junta_sep(w1,w2))== len(w2) else w1)\n",
    "\n",
    "junta_sep = maybe(lambda w1,w2: [w1.append(q) for q in w2])\n",
    "\n",
    "print(junta([1,2,3],[4,5,6]))\n",
    "assert(junta([1,2,3],[4,5,6]) == [1,2,3,4,5,6])"
   ]
  },
  {
   "cell_type": "markdown",
   "metadata": {},
   "source": [
    "9 Defina a função temPrimoQ que recebe como argumento uma lista de listas de\n",
    "números inteiros w e devolve True se alguma das sublistas w tem um número\n",
    "primo e False em caso contrário.\n",
    " - Ex: temPrimoQ([[4,4,4,4],[5,4,6,7],[2,4,3]]) = True\n",
    " - Ex: temPrimoQ([[4,4,4,4],[4,4,4],[],[4]]) = False"
   ]
  },
  {
   "cell_type": "code",
   "execution_count": 41,
   "metadata": {},
   "outputs": [
    {
     "name": "stdout",
     "output_type": "stream",
     "text": [
      "True\n",
      "False\n",
      "False\n",
      "True\n"
     ]
    }
   ],
   "source": [
    "primo = maybe(lambda n: len([i for i in range(2,n) if n%i==0])==0)\n",
    "extrai_lista = maybe(lambda w: None if len(w)==0 else w.pop())\n",
    "lista_primo = maybe(lambda v: False if v == None or len(v)==0 else True if primo(v.pop()) else lista_primo(v))\n",
    "temPrimoQ = maybe(lambda w: True if lista_primo(extrai_lista(w)) else False if len(w) == 0 else temPrimoQ(w))\n",
    "\n",
    "print(temPrimoQ([[4,4,4,4],[5,4,6,7],[2,4,3]]))\n",
    "print(temPrimoQ([[4,4,4,4],[4,4,4],[],[4]]))\n",
    "print(temPrimoQ([[]]))\n",
    "print(temPrimoQ([[2]]))\n",
    "\n",
    "assert(temPrimoQ([[4,4,4,4],[5,4,6,7],[2,4,3]]) == True)\n",
    "assert(temPrimoQ([[4,4,4,4],[4,4,4],[],[4]]) == False)"
   ]
  },
  {
   "cell_type": "markdown",
   "metadata": {},
   "source": [
    "10 Defina a função inverteLista que recebe como argumento uma lista w e devolve a\n",
    "mesma lista mas invertida.\n",
    " - Ex: inverteLista([1,2,3,4,5]) = [5, 4, 3, 2, 1]\n",
    " - Ex: inverteLista([])"
   ]
  },
  {
   "cell_type": "code",
   "execution_count": 45,
   "metadata": {},
   "outputs": [
    {
     "name": "stdout",
     "output_type": "stream",
     "text": [
      "[5, 4, 3, 2, 1]\n",
      "[]\n"
     ]
    }
   ],
   "source": [
    "inverteLista = maybe(lambda w: w[::-1])\n",
    "\n",
    "print(inverteLista([1,2,3,4,5]))\n",
    "print(inverteLista([]))\n",
    "\n",
    "assert(inverteLista([1,2,3,4,5]) == [5,4,3,2,1])"
   ]
  }
 ],
 "metadata": {
  "kernelspec": {
   "display_name": "Python 3",
   "language": "python",
   "name": "python3"
  },
  "language_info": {
   "codemirror_mode": {
    "name": "ipython",
    "version": 3
   },
   "file_extension": ".py",
   "mimetype": "text/x-python",
   "name": "python",
   "nbconvert_exporter": "python",
   "pygments_lexer": "ipython3",
   "version": "3.7.3"
  }
 },
 "nbformat": 4,
 "nbformat_minor": 2
}
