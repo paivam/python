{
 "cells": [
  {
   "cell_type": "markdown",
   "metadata": {},
   "source": [
    "### lista 11\n",
    "**Nome**:Mateus Henrique Silva Paiva <br>\n",
    "**RA**: 817123241"
   ]
  },
  {
   "cell_type": "markdown",
   "metadata": {},
   "source": [
    "1 Menor de dois pares: Escreva uma função que retorne o menor de dois números\n",
    "dados se ambos os números forem pares, mas retorna o maior se um dos dois for\n",
    "ímpar. Exemplo:\n",
    "- menor_de_dois_pares(2,4) --> 2\n",
    "- menor_de_dois_pares (2,5) --> 5"
   ]
  },
  {
   "cell_type": "code",
   "execution_count": 6,
   "metadata": {},
   "outputs": [
    {
     "name": "stdout",
     "output_type": "stream",
     "text": [
      "5\n",
      "2\n"
     ]
    }
   ],
   "source": [
    "def menor_de_dois_pares(n1,n2):\n",
    "    if n1 % 2 == 0 and n2 % 2 == 0:\n",
    "        if n1 < n2:\n",
    "            return n1\n",
    "        else:\n",
    "            return n2\n",
    "    else:\n",
    "        if n1 < n2:\n",
    "            return n2\n",
    "        else:\n",
    "            return n1\n",
    "print(menor_de_dois_pares(2,5))\n",
    "print(menor_de_dois_pares(2,4))"
   ]
  },
  {
   "cell_type": "markdown",
   "metadata": {},
   "source": [
    "2 Mesma letra: Escreva uma função que receba uma string com duas palavras e\n",
    "retorne True se ambas palavras começarem com a mesma letra. Exemplo:\n",
    "- mesma_letra('Cão covarde') -> True\n",
    "- mesma_letra('Vira Lata') -> False"
   ]
  },
  {
   "cell_type": "code",
   "execution_count": 9,
   "metadata": {},
   "outputs": [
    {
     "name": "stdout",
     "output_type": "stream",
     "text": [
      "['Cão', 'covarde']\n",
      "True\n",
      "['Vira', 'lata']\n",
      "False\n"
     ]
    }
   ],
   "source": [
    "def mesma_letra(s):\n",
    "    s1 = s. split()\n",
    "    print(s1)\n",
    "    if s1[0][0].lower() == s1[1][0].lower():\n",
    "        return True\n",
    "    else:\n",
    "        return False\n",
    "print(mesma_letra('Cão covarde'))\n",
    "print(mesma_letra('Vira lata'))"
   ]
  },
  {
   "cell_type": "markdown",
   "metadata": {},
   "source": [
    "3 Mestre Yoda: Dada uma sentença, a função deve retornar a sentença com as\n",
    "palavras na ordem reversa. Exemplo:\n",
    " - mestre_yoda('Eu estou em casa') --> 'casa em estou Eu'\n",
    " - mestre_yoda('Estamos prontos') --> 'prontos Estamos'"
   ]
  },
  {
   "cell_type": "code",
   "execution_count": 14,
   "metadata": {},
   "outputs": [
    {
     "name": "stdout",
     "output_type": "stream",
     "text": [
      " casa em estou Eu\n",
      " prontos Estamos\n"
     ]
    }
   ],
   "source": [
    "def mestre_yoda(s):\n",
    "    lista = s.split()[::-1]\n",
    "    s = ''\n",
    "    for i in lista:\n",
    "        s += ' ' + i\n",
    "    return s\n",
    "\n",
    "\n",
    "print(mestre_yoda('Eu estou em casa'))\n",
    "print(mestre_yoda('Estamos prontos'))"
   ]
  },
  {
   "cell_type": "markdown",
   "metadata": {},
   "source": [
    "4 Tem 33: Faça uma função que retorne True se, dada uma lista de inteiros, houver\n",
    "em alguma posição da lista um 3 do lado de outro 3. Exemplo:\n",
    " - tem_33([1,3,3]) --> True\n",
    " - tem_33([1,3,1,3]) --> False\n",
    " - tem_33([3,1,3]) --> False"
   ]
  },
  {
   "cell_type": "code",
   "execution_count": 15,
   "metadata": {},
   "outputs": [
    {
     "name": "stdout",
     "output_type": "stream",
     "text": [
      "False\n",
      "True\n"
     ]
    }
   ],
   "source": [
    "def tem_33(lista):\n",
    "    for i in range(0,len(lista)):\n",
    "        if lista[i] == 3:\n",
    "            if i + 1 < len(lista):\n",
    "                if lista[i+1] == 3:\n",
    "                    return True\n",
    "    else:\n",
    "        return False\n",
    "print(tem_33([1,3,1,3]))\n",
    "print(tem_33([1,3,3,1]))"
   ]
  },
  {
   "cell_type": "markdown",
   "metadata": {},
   "source": [
    "5 Blackjack: Faça uma função que receba 3 inteiros entre 1 e 11. Se a soma deles for\n",
    "menor que 21, retorne o valor da soma. Se for mair do que 21 e houver um 11,\n",
    "subtraia 10 da soma antes de apresentar o resultado. Se o valor da soma passar de\n",
    "21, retorne ‘ESTOUROU’. Exemplo:\n",
    " - blackjack(5,6,7) --> 18\n",
    " - blackjack(9,9,9) --> 'ESTOUROU'\n",
    " - blackjack(9,9,11) --> 19"
   ]
  },
  {
   "cell_type": "code",
   "execution_count": 20,
   "metadata": {},
   "outputs": [
    {
     "name": "stdout",
     "output_type": "stream",
     "text": [
      "18\n",
      "ESTOUROU\n",
      "19\n",
      "21, Venceu!\n"
     ]
    }
   ],
   "source": [
    "def blackjack(c1,c2,c3):\n",
    "    if 1 <= c1 <= 11 and 1 <= c2 <= 11 and 1 <= c3 <= 11:\n",
    "        soma = c1 + c2 + c3\n",
    "        if c1 == 11 or c2 == 11 or c3 == 11:\n",
    "            soma = soma - 10\n",
    "            if soma < 21:\n",
    "                return soma\n",
    "            elif soma > 21:\n",
    "                return 'ESTOUROU'\n",
    "            else:\n",
    "                return '21, Venceu!'\n",
    "        else:\n",
    "            if soma < 21:\n",
    "                return soma\n",
    "            elif soma > 21:\n",
    "                return 'ESTOUROU'\n",
    "            else:\n",
    "                return '21, Venceu!'\n",
    "    else:\n",
    "        return 'Numeros digitados invalidos'\n",
    "print(blackjack(5,6,7))\n",
    "print(blackjack(9,9,9))\n",
    "print(blackjack(9,9,11))\n",
    "print(blackjack(10,10,1))"
   ]
  },
  {
   "cell_type": "markdown",
   "metadata": {},
   "source": [
    "6 Espião: Escreva uma função que receba uma lista de\n",
    "inteiros e retorne True se contém um 007 em ordem, mesmo\n",
    "que não contínuo. Exemplo:\n",
    " - espiao([1,2,4,0,0,7,5]) --> True\n",
    " - espiao([1,0,2,4,0,5,7]) --> True\n",
    " - espiao([1,7,2,4,0,5,0]) --> False"
   ]
  },
  {
   "cell_type": "code",
   "execution_count": 14,
   "metadata": {},
   "outputs": [
    {
     "name": "stdout",
     "output_type": "stream",
     "text": [
      "True\n",
      "True\n",
      "False\n"
     ]
    }
   ],
   "source": [
    "def espiao(lista):\n",
    "    chave = [0,0,7]\n",
    "    ret = [False, False, False]\n",
    "    k = 0\n",
    "    for i in lista:\n",
    "        if i == chave[k]:\n",
    "            ret[k] = True\n",
    "            k += 1\n",
    "            if k >= len(chave):\n",
    "                break\n",
    "    return ret[0] and ret[1] and ret[2]\n",
    "\n",
    "print(espiao([1,2,4,0,0,7,5]))\n",
    "print(espiao([1,0,2,4,0,5,7]))\n",
    "print(espiao([1,7,2,4,0,5,0]))"
   ]
  },
  {
   "cell_type": "markdown",
   "metadata": {},
   "source": [
    "7 Linha: Crie a classe Linha que tem dois atributos, coordenada1 e coordenada2.\n",
    "Cada coordenada é uma tupla que carrega duas coordenadas cartesianas (x,y) que\n",
    "denotam pontos do segmento de reta. Faça métodos que calculem o comprimento\n",
    "do segmento de reta e sua inclinação"
   ]
  },
  {
   "cell_type": "code",
   "execution_count": 21,
   "metadata": {},
   "outputs": [
    {
     "name": "stdout",
     "output_type": "stream",
     "text": [
      "Comprimento da reta:  2.0\n",
      "Inclinação da reta:  0.0\n"
     ]
    }
   ],
   "source": [
    "import math\n",
    "class Linha:\n",
    "    def __init__(self,coordenada1,coordenada2):\n",
    "        self.coordenada1 = coordenada1\n",
    "        self.coordenada2 = coordenada2\n",
    "    def calcula_comprimento(self):\n",
    "        delta_x = self.coordenada2[0] - self.coordenada1[0]\n",
    "        delta_y = self.coordenada2[1] - self.coordenada1[1]\n",
    "        return math.sqrt((delta_x)**2 + (delta_y)**2)\n",
    "    def calcula_inclinacao(self):\n",
    "        delta_x = self.coordenada2[0] - self.coordenada1[0]\n",
    "        delta_y = self.coordenada2[1] - self.coordenada1[1]\n",
    "        return delta_x / delta_y\n",
    "linha = Linha((3,2),(3,4))\n",
    "print('Comprimento da reta: ',linha.calcula_comprimento())\n",
    "print('Inclinação da reta: ', linha.calcula_inclinacao())"
   ]
  },
  {
   "cell_type": "markdown",
   "metadata": {},
   "source": [
    "8 Figuras: Crie a seguinte hierarquia de classes de figuras geométricas. Veja na figura\n",
    "as fórmulas:\n",
    " - a. A classe abstrata Figura deve ter o método abstrato area.\n",
    " - b. A classe concreta Circulo é subclasse de Figura.\n",
    " - c. A classe abstrata Poligono é subclasse de Figura e deve ter os atributos base e altura .\n",
    " - d. As classes concretas Triangulo, Losango, Retangulo e Quadrado são subclasses de Poligono. Tente criar mais uma    generalização aqui olhando as fórmulas da área.\n",
    " - e. Os polígonos Retangulo e Quadrado devem implementar a interface Diagonal,\n",
    "que deve ter um método que calcula a diagonal.\n",
    " - f. Crie uma classe Geometria com uma lista de Figuras com pelo menos uma\n",
    "figura de cada e imprima suas áreas, perímetros e diagonais.\n",
    "9 Jogo"
   ]
  },
  {
   "cell_type": "code",
   "execution_count": 1,
   "metadata": {},
   "outputs": [],
   "source": [
    "class Figura:\n",
    "    def area(self):\n",
    "        raise NotImplementedError(\n",
    "            \"A subclasse deve implementar o método abstrato\")\n",
    "    def perimetro(self):\n",
    "        raise NotImplementedError(\n",
    "            \"A subclasse deve implementar o método abstrato\")"
   ]
  },
  {
   "cell_type": "code",
   "execution_count": 2,
   "metadata": {},
   "outputs": [
    {
     "name": "stdout",
     "output_type": "stream",
     "text": [
      "28.274333882308138\n",
      "18.84955592153876\n"
     ]
    }
   ],
   "source": [
    "from math import pi\n",
    "class Circulo(Figura):\n",
    "    def __init__(self, raio):\n",
    "        self.raio = raio\n",
    "    def area(self):\n",
    "        return self.raio**2 * pi\n",
    "    \n",
    "    def perimetro(self):\n",
    "        return 2*pi*self.raio\n",
    "    \n",
    "    \n",
    "circulo = Circulo(3)\n",
    "print(circulo.area())\n",
    "print(circulo.perimetro())"
   ]
  },
  {
   "cell_type": "code",
   "execution_count": 3,
   "metadata": {},
   "outputs": [],
   "source": [
    "from math import sqrt\n",
    "\n",
    "class Poligono(Figura):\n",
    "    def __init__(self,base,altura):\n",
    "        self._base=base\n",
    "        self._altura=altura\n",
    "        \n",
    "    def area(self):\n",
    "        return self._base * self._altura\n",
    "\n",
    "# Python nao tem interface, então deve ser definida uma nova classe\n",
    "# Utilizar herança múltipla\n",
    "class Diagonal:\n",
    "    def __init__(self,base,altura):\n",
    "        self._base=base\n",
    "        self._altura=altura\n",
    "        \n",
    "    def diagonal(self):\n",
    "        return sqrt(self._base**2 + self._altura**2)\n",
    "    \n",
    "class Quadrilatero(Figura):\n",
    "    def __init__(self,base,altura):\n",
    "        self._base=base\n",
    "        self._altura=altura\n",
    "        \n",
    "    def perimetro(self):\n",
    "        return (self._base*2 + self._altura*2)\n",
    "        \n",
    "# Heranca múltipla. Se existirem métodos com a mesma assinatura\n",
    "# vindos das classes herdadas, será invocado pela ordem das classes\n",
    "# dentro dos parêntesis da herança\n",
    "class Quadrado(Poligono,Diagonal,Quadrilatero):\n",
    "    def __init__(self,lado):\n",
    "        Poligono.__init__(self,lado,lado)\n",
    "        Diagonal.__init__(self,lado,lado)\n",
    "        Quadrilatero.__init__(self,lado,lado)\n",
    "    \n",
    "class Retangulo(Poligono,Diagonal,Quadrilatero):\n",
    "    def __init__(self,base,altura):\n",
    "        Poligono.__init__(self,base,altura)\n",
    "        Diagonal.__init__(self,base,altura)\n",
    "        Quadrilatero.__init__(self,base,altura)\n",
    "        \n",
    "class Losango(Poligono,Quadrilatero):\n",
    "    def __init__(self,base,altura):\n",
    "        Poligono.__init__(self,base,altura)\n",
    "        Quadrilatero.__init__(self,base,altura)\n",
    "\n",
    "# como não é possível calcular o perímetro de um triângulo tendo somente\n",
    "# base e altura, triângulo será subclasse diretamente de figura e irá pedir \n",
    "# os três lados, usando o teorema de Herão para calcular a área\n",
    "class Triangulo(Figura):\n",
    "    def __init__(self,lado1,lado2,lado3):\n",
    "        if lado1>=lado2+lado3 or lado2>=lado1+lado3 or lado3>=lado1+lado2:\n",
    "            raise Eception(\"Não é um triângulo\")\n",
    "            \n",
    "        self._lado1 = lado1\n",
    "        self._lado2 = lado2\n",
    "        self._lado3 = lado3\n",
    "    \n",
    "    def perimetro(self):\n",
    "        return self._lado1 + self._lado2 + self._lado3\n",
    "    \n",
    "    def area(self):\n",
    "        s = self.perimetro()/2\n",
    "        return sqrt(s*(s-self._lado1)*(s-self._lado2)*(s-self._lado3))\n",
    "    \n",
    "class Geometria:\n",
    "    pass"
   ]
  },
  {
   "cell_type": "code",
   "execution_count": 4,
   "metadata": {},
   "outputs": [
    {
     "name": "stdout",
     "output_type": "stream",
     "text": [
      "<class '__main__.Circulo'>------------------------------------------------------------\n",
      "área: 28.27\n",
      "<class '__main__.Quadrado'>------------------------------------------------------------\n",
      "área: 4.00\n",
      "diagonal: 2.83\n",
      "<class '__main__.Retangulo'>------------------------------------------------------------\n",
      "área: 6.00\n",
      "diagonal: 3.61\n",
      "<class '__main__.Triangulo'>------------------------------------------------------------\n",
      "área: 2.90\n",
      "<class '__main__.Losango'>------------------------------------------------------------\n",
      "área: 6.00\n"
     ]
    }
   ],
   "source": [
    "figuras = [Circulo(3), Quadrado(2), Retangulo(2,3), Triangulo(2,3,4), Losango(3,2)]\n",
    "for figura in figuras:\n",
    "    print(str(type(figura))+'-'*60)\n",
    "    # todo mundo sabe calcular area e perimetro\n",
    "    print('área: %.2f' % (figura.area()))\n",
    "    if isinstance(figura,Diagonal):\n",
    "        print('diagonal: %.2f' % (figura.diagonal()))"
   ]
  },
  {
   "cell_type": "markdown",
   "metadata": {},
   "source": [
    "9 Jogo de Blacjack: Faça um joguinho simples em Python.\n",
    "Aqui estão os requisitos:\n",
    "- Você precisa criar um jogo de BlackJack (21) baseado em texto simples\n",
    "- O jogo precisa ter um jogador contra um croupier automatizado.\n",
    "- O jogador pode desistir ou bater.\n",
    "- O jogador deve ser capaz de escolher o seu valor de aposta.\n",
    "- Você precisa acompanhar o dinheiro total do jogador.\n",
    "- Você precisa alertar o jogador de vitórias, derrotas ou estouros, etc ..."
   ]
  },
  {
   "cell_type": "markdown",
   "metadata": {},
   "source": [
    "blackjack, para fazer OO, deve ter uma classe para o deck, um para o entregador, um para player"
   ]
  }
 ],
 "metadata": {
  "kernelspec": {
   "display_name": "Python 3",
   "language": "python",
   "name": "python3"
  },
  "language_info": {
   "codemirror_mode": {
    "name": "ipython",
    "version": 3
   },
   "file_extension": ".py",
   "mimetype": "text/x-python",
   "name": "python",
   "nbconvert_exporter": "python",
   "pygments_lexer": "ipython3",
   "version": "3.7.3"
  }
 },
 "nbformat": 4,
 "nbformat_minor": 2
}
