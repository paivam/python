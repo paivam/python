{
 "cells": [
  {
   "cell_type": "markdown",
   "metadata": {},
   "source": [
    "## Exercico 09\n",
    "\n",
    "##### Nome: Matheus Henrique Silva Paiva   <br>RA: 817123241\n",
    "\n",
    "\n",
    "\n",
    "\n",
    "\n"
   ]
  },
  {
   "cell_type": "markdown",
   "metadata": {},
   "source": [
    "##### 1: Faça um Programa que peça o raio de um círculo, calcule e mostre sua área."
   ]
  },
  {
   "cell_type": "code",
   "execution_count": 2,
   "metadata": {},
   "outputs": [
    {
     "name": "stdout",
     "output_type": "stream",
     "text": [
      "Digite o raio: 8\n",
      "A area é 200.96\n"
     ]
    }
   ],
   "source": [
    "raio = float(input(\"Digite o raio: \"))\n",
    "\n",
    "area = 3.14 *(raio**2)\n",
    "\n",
    "print (\"A area é {}\".format(area))\n"
   ]
  },
  {
   "cell_type": "markdown",
   "metadata": {},
   "source": [
    "#### 2 Faça um Programa que calcule a área de um quadrado, em seguida mostre o dobro desta área para o usuário"
   ]
  },
  {
   "cell_type": "code",
   "execution_count": 4,
   "metadata": {},
   "outputs": [
    {
     "name": "stdout",
     "output_type": "stream",
     "text": [
      "Digite o lado: 5\n",
      "Quadrado area 50.0\n"
     ]
    }
   ],
   "source": [
    "lado = float(input(\"Digite o lado: \"))\n",
    "\n",
    "area = (lado * lado) * 2\n",
    "\n",
    "print(\"Quadrado area {}\".format(area))\n"
   ]
  },
  {
   "cell_type": "markdown",
   "metadata": {},
   "source": [
    "#### 3: Faça um Programa que pergunte quanto você ganha por hora e o número de horas trabalhadas no mês. Calcule e mostre o total do seu salário no referido mês"
   ]
  },
  {
   "cell_type": "code",
   "execution_count": 8,
   "metadata": {},
   "outputs": [
    {
     "name": "stdout",
     "output_type": "stream",
     "text": [
      "Quanto voce ganha por hora ? 50\n",
      "Quantidade de horas trabahadas ?100\n",
      "Seu salario é: 5000.0\n"
     ]
    }
   ],
   "source": [
    "hora = float(input(\"Quanto voce ganha por hora ? \"))\n",
    "trabalhadas = int(input(\"Quantidade de horas trabahadas ?\" ))\n",
    "\n",
    "print (\"Seu salario é: \" + str(hora*trabalhadas))"
   ]
  },
  {
   "cell_type": "markdown",
   "metadata": {},
   "source": [
    "#### 4: Faça um Programa que peça a temperatura em graus Farenheit, transforme e mostre a temperatura em graus Celsius. C = (5 * (F-32) / 9)"
   ]
  },
  {
   "cell_type": "code",
   "execution_count": 12,
   "metadata": {},
   "outputs": [
    {
     "name": "stdout",
     "output_type": "stream",
     "text": [
      "Temperatura em Farenheint: 8\n",
      "Temperatura em graus Celsius -13.333333333333334°\n"
     ]
    }
   ],
   "source": [
    "f_graus = float(input(\"Temperatura em Farenheint: \"))\n",
    "\n",
    "c_graus = (5 * (f_graus-32) / 9)\n",
    "\n",
    "print(\"Temperatura em graus Celsius {}°\".format(c_graus))"
   ]
  },
  {
   "cell_type": "markdown",
   "metadata": {},
   "source": [
    "#### 5: Faça um Programa que peça a temperatura em graus Celsius, transforme e mostre em graus Farenheit. "
   ]
  },
  {
   "cell_type": "code",
   "execution_count": 14,
   "metadata": {},
   "outputs": [
    {
     "name": "stdout",
     "output_type": "stream",
     "text": [
      "Temperatura em Celsius: 25\n",
      "Temperatura em graus Farenheit: 77.0°\n"
     ]
    }
   ],
   "source": [
    "c_graus = float(input(\"Temperatura em Celsius: \"))\n",
    "\n",
    "f_graus =  ((c_graus * 9/5) + 32)\n",
    "\n",
    "print(\"Temperatura em graus Farenheit: {}°\".format(f_graus))"
   ]
  },
  {
   "cell_type": "markdown",
   "metadata": {},
   "source": [
    "#### 6 Faça um Programa que peça 2 números inteiros e um número real. Calcule e mostre:\n",
    "- o produto do dobro do primeiro com metade do segundo .\n",
    "- a soma do triplo do primeiro com o terceiro.\n",
    "- o terceiro elevado ao cubo.\n"
   ]
  },
  {
   "cell_type": "code",
   "execution_count": 16,
   "metadata": {},
   "outputs": [
    {
     "name": "stdout",
     "output_type": "stream",
     "text": [
      "Digite um numero inteiro5\n",
      "Digite outro numero inteiro5\n",
      "Digite um numero real5\n",
      "12.5\n",
      "20.0\n",
      "125.0\n"
     ]
    }
   ],
   "source": [
    "inteiro_1 = int(input(\"Digite um numero inteiro\"))\n",
    "inteiro_2 = int(input(\"Digite outro numero inteiro\"))\n",
    "real = float(input(\"Digite um numero real\"))\n",
    "\n",
    "print(inteiro_1 * 2 + (inteiro_2/2))\n",
    "print(inteiro_1 * 3 + real)\n",
    "print(real ** 3)"
   ]
  },
  {
   "cell_type": "markdown",
   "metadata": {},
   "source": [
    "###### 7 João Papo-de-Pescador, homem de bem, comprou um microcomputador para controlar o rendimento diário de seu trabalho. Toda vez que ele traz um peso de peixes maior que o estabelecido pelo regulamento de pesca do estado de São Paulo (50 quilos) deve pagar uma multa de 4,00 por quilo excedente. João precisa que você faça um programa que leia a variável peso (peso de peixes) e verifique se há excesso. Se houver, gravar na variável excesso e na variável multa o valor da multa que João deverá pagar. Caso contrário mostrar tais variáveis com o conteúdo ZERO."
   ]
  },
  {
   "cell_type": "code",
   "execution_count": 21,
   "metadata": {},
   "outputs": [
    {
     "name": "stdout",
     "output_type": "stream",
     "text": [
      "Quantidade de quilos70\n",
      "excesso: 20, a multa é de: 80\n"
     ]
    }
   ],
   "source": [
    "peso = int(input(\"Quantidade de quilos\"))\n",
    "pagar = 4\n",
    "excesso = 0\n",
    "\n",
    "\n",
    "if(peso > 50):\n",
    "    excesso = peso - 50\n",
    "    pagar = excesso * pagar\n",
    "    print(\"excesso: {}, a multa é de: {}\" .format(excesso, pagar))\n",
    "else:\n",
    "    print(\"não a multa a pagar\")"
   ]
  },
  {
   "cell_type": "markdown",
   "metadata": {},
   "source": [
    "#### 8 Faça um Programa que pergunte quanto você ganha por hora e o número de horas trabalhadas no mês. Calcule e mostre o total do seu salário no referido mês, sabendo-se que são descontados 11% para o Imposto de Renda, 8% para o INSS e 5% para o sindicato, faça um programa que nos dê:\n",
    "\n",
    "salário bruto.\n",
    "quanto pagou ao INSS.\n",
    "quanto pagou ao sindicato.\n",
    "o salário líquido\n",
    "calcule os descontos e o salário líquido, conforme a tabela abaixo:\n",
    "Salário Bruto : Reais \n",
    "IR (11%) : Reais \n",
    "INSS (8%) : Reais \n",
    "Sindicato ( 5%) : Reais \n",
    "Salário Liquido : reais \n",
    "Obs.: Salário Bruto - Descontos = Salário Líquido.\n"
   ]
  },
  {
   "cell_type": "code",
   "execution_count": 22,
   "metadata": {},
   "outputs": [
    {
     "name": "stdout",
     "output_type": "stream",
     "text": [
      "Quanto voce ganha por hora ? 50\n",
      "Quantidade de horas trabahadas ?200\n",
      "Seu salario bruto: 10000.0, imposto de renda: 1100.0, inss: 800.0, sindicato: 500.0, liquido: 7600.0\n"
     ]
    }
   ],
   "source": [
    "hora = float(input(\"Quanto voce ganha por hora ? \"))\n",
    "trabalhadas = int(input(\"Quantidade de horas trabahadas ?\" ))\n",
    "\n",
    "bruto = hora * trabalhadas\n",
    "ir = bruto * 0.11\n",
    "inss = bruto * 0.08\n",
    "sindicato = bruto * 0.05\n",
    "\n",
    "liquido = bruto - ir - inss - sindicato\n",
    "\n",
    "print (\"Seu salario bruto: {}, imposto de renda: {}, inss: {}, sindicato: {}, liquido: {}\" .format(bruto, ir, inss, sindicato, liquido))"
   ]
  },
  {
   "cell_type": "markdown",
   "metadata": {},
   "source": [
    "#### 9 Faça um programa que leia 2 strings e informe o conteúdo delas seguido do seu comprimento. Informe também se as duas strings possuem o mesmo comprimento e são iguais ou diferentes no conteúdo.\n"
   ]
  },
  {
   "cell_type": "code",
   "execution_count": 25,
   "metadata": {},
   "outputs": [
    {
     "name": "stdout",
     "output_type": "stream",
     "text": [
      "Digite a frase palavra: segunda\n",
      "Digite a frase palavra: segunda\n",
      "O tamanho da primeira frase é  7\n",
      "O tamanho da segunda frase é  7\n",
      "O tamanho é igual\n",
      "palavras são iguais\n"
     ]
    }
   ],
   "source": [
    "string_1 = input(\"Digite a frase palavra: \")\n",
    "string_2 = input(\"Digite a frase palavra: \")\n",
    "\n",
    "print(\"O tamanho da primeira frase é \", len(string_1))\n",
    "print(\"O tamanho da segunda frase é \",  len(string_1))\n",
    "\n",
    "if len(string_1) == len(string_2):\n",
    "    print(\"O tamanho é igual\")\n",
    "else:\n",
    "    print(\"O tamanho é diferente\")\n",
    "  \n",
    "if (string_1 == string_2):\n",
    "    print(\"palavras são iguais\")\n",
    "else:\n",
    "    print(\"palavras são diferentes\")\n"
   ]
  },
  {
   "cell_type": "markdown",
   "metadata": {},
   "source": [
    "#### 10 Faça um programa que permita ao usuário digitar o seu nome e em seguida mostre o nome do usuário de trás para frente utilizando somente letras maiúsculas. Dica: lembre−se que ao informar o nome o usuário pode digitar letras maiúsculas ou minúsculas. Observação: não use loops."
   ]
  },
  {
   "cell_type": "code",
   "execution_count": 2,
   "metadata": {},
   "outputs": [
    {
     "name": "stdout",
     "output_type": "stream",
     "text": [
      "Digite seu nome: matheus paiva\n",
      "AVIAP SUEHTAM\n"
     ]
    }
   ],
   "source": [
    "nome= input(\"Digite seu nome: \")\n",
    "nome= nome.upper()\n",
    "print(nome[:: -1])"
   ]
  },
  {
   "cell_type": "markdown",
   "metadata": {},
   "source": [
    "#### 11 Faça um programa que solicite a data de nascimento (dd/mm/aaaa) do usuário e imprima a data com o nome do mês por extenso.\n",
    "Data de Nascimento: 29/10/1973\n",
    "Você nasceu em 29 de Outubro de 1973.\n",
    "Obs.: Não use desvio condicional nem loops."
   ]
  },
  {
   "cell_type": "code",
   "execution_count": 1,
   "metadata": {},
   "outputs": [
    {
     "name": "stdout",
     "output_type": "stream",
     "text": [
      "sua data de nascimento é ?29/04/1999\n",
      "Voce nasceu em 29 de Abril de 1999\n"
     ]
    }
   ],
   "source": [
    "dataNascimento = str(input(\"sua data de nascimento é ?\"))\n",
    "mes = {1:\"Janeiro\", 2:\"Fevereiro\", 3:\"Março\", 4:\"Abril\", 5:\"Março\", 6:\"Junho\", 7:\"Julho\", 8:\"Agosto\", 9:\"Setembro\", 10:\"Outubro\", 11:\"Novembro\", 12:\"Dezembro\"}\n",
    "\n",
    "dataNascimento_list = dataNascimento.split(\"/\")\n",
    "\n",
    "print(\"Voce nasceu em {} de {} de {}\".format(dataNascimento_list[0],mes[int(dataNascimento_list[1])],dataNascimento_list[2]))"
   ]
  },
  {
   "cell_type": "markdown",
   "metadata": {},
   "source": [
    "12 Leet é uma forma de se escrever o alfabeto latino usando outros símbolos em\n",
    "lugar das letras, como números por exemplo. A própria palavra leet admite muitas\n",
    "variações, como l33t ou 1337. O uso do leet reflete uma subcultura relacionada ao\n",
    "mundo dos jogos de computador e internet, sendo muito usada para confundir os\n",
    "iniciantes e afirmar-se como parte de um grupo. Pesquise sobre as principais formas\n",
    "de traduzir as letras. Depois, faça um programa que peça uma texto e transforme-o\n",
    "para a grafia leet speak."
   ]
  },
  {
   "cell_type": "code",
   "execution_count": null,
   "metadata": {},
   "outputs": [],
   "source": []
  }
 ],
 "metadata": {
  "kernelspec": {
   "display_name": "Python 3",
   "language": "python",
   "name": "python3"
  },
  "language_info": {
   "codemirror_mode": {
    "name": "ipython",
    "version": 3
   },
   "file_extension": ".py",
   "mimetype": "text/x-python",
   "name": "python",
   "nbconvert_exporter": "python",
   "pygments_lexer": "ipython3",
   "version": "3.6.7"
  }
 },
 "nbformat": 4,
 "nbformat_minor": 2
}
