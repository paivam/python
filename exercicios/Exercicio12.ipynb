{
 "cells": [
  {
   "cell_type": "markdown",
   "metadata": {},
   "source": [
    "### Lista 12\n",
    "**Nome**:Mateus Henrique Silva Paiva <br>\n",
    "**RA**: 817123241"
   ]
  },
  {
   "cell_type": "markdown",
   "metadata": {},
   "source": [
    "1 Defina a função soma_nat que recebe como argumento um número natural n\n",
    "e devolve a soma de todos os números naturais até n.\n",
    " - Ex: soma_nat(5) = 15"
   ]
  },
  {
   "cell_type": "code",
   "execution_count": 6,
   "metadata": {},
   "outputs": [
    {
     "name": "stdout",
     "output_type": "stream",
     "text": [
      "15\n"
     ]
    }
   ],
   "source": [
    "def soma_nat(n):\n",
    "    if n > 0:\n",
    "        return n + soma_nat(n-1)\n",
    "    else:\n",
    "        return 0\n",
    "print(soma_nat(5))\n",
    "assert(soma_nat(5) == 15)"
   ]
  },
  {
   "cell_type": "markdown",
   "metadata": {},
   "source": [
    "2 Defina a função div que recebe como argumentos dois números naturais m\n",
    "e n e devolve o resultado da divisão inteira de m por n. Neste exercício você não\n",
    "pode recorrer às operações aritméticas de multiplicação, divisão e resto da divisão\n",
    "inteira.\n",
    " - Ex: div(7,2) = 3"
   ]
  },
  {
   "cell_type": "code",
   "execution_count": 14,
   "metadata": {},
   "outputs": [
    {
     "name": "stdout",
     "output_type": "stream",
     "text": [
      "3\n"
     ]
    }
   ],
   "source": [
    "def div(m,n):\n",
    "    #usando abordagem funcional\n",
    "    #vai tirando de recursao a recursao até a parte inteira resultar em algo menor \n",
    "    #que n que significaria que toda parte inteira foi \"dividida\"\n",
    "    return 1 + div(m-n,n) if m >= n else 0\n",
    "print(div(7,2))\n",
    "assert(div(7,2) == 3)"
   ]
  },
  {
   "cell_type": "markdown",
   "metadata": {},
   "source": [
    "3 Defina a função prim_alg que recebe como argumento um número natural e\n",
    "devolve o primeiro algarismo (o mais significativo) na representação decimal de n.\n",
    " - Ex: prim_alg(5649) = 5\n",
    " - Ex: prim_alg(7) = 7"
   ]
  },
  {
   "cell_type": "code",
   "execution_count": 27,
   "metadata": {},
   "outputs": [
    {
     "name": "stdout",
     "output_type": "stream",
     "text": [
      "5\n"
     ]
    }
   ],
   "source": [
    "def prim_alg(n):\n",
    "    return int(str(n)[0]) if n > 0 else 0\n",
    "print(prim_alg(5649))\n",
    "assert(prim_alg(5649) == 5)"
   ]
  },
  {
   "cell_type": "markdown",
   "metadata": {},
   "source": [
    "4 Defina a função prod_lista que recebe como argumento uma lista de inteiros e\n",
    "devolve o produto dos seus elementos.\n",
    " - Ex: prod_lista([1,2,3,4,5,6]) = 720"
   ]
  },
  {
   "cell_type": "code",
   "execution_count": 52,
   "metadata": {},
   "outputs": [
    {
     "name": "stdout",
     "output_type": "stream",
     "text": [
      "720\n"
     ]
    }
   ],
   "source": [
    "def prod_lista(lista):\n",
    "    #retira um elemento da lista e multiplica pela recursao da prod_lista com a lista sem 1 elemento\n",
    "    return lista.pop() * prod_lista(lista) if len(lista) > 0 else 1\n",
    "print(prod_lista([1,2,3,4,5,6]))\n",
    "assert(prod_lista([1,2,3,4,5,6]) == 720)"
   ]
  },
  {
   "cell_type": "code",
   "execution_count": 62,
   "metadata": {},
   "outputs": [
    {
     "name": "stdout",
     "output_type": "stream",
     "text": [
      "720\n"
     ]
    }
   ],
   "source": [
    "def prod_lista2(lista2):\n",
    "    #lista[:-1] retorna a lista sem o ultimo elemento\n",
    "    return lista2[len(lista2)-1] * prod_lista2(lista2[:-1]) if len(lista2) > 0 else 1\n",
    "\n",
    "print(prod_lista2([1,2,3,4,5,6]))\n",
    "assert(prod_lista2([1,2,3,4,5,6]) == 720)"
   ]
  },
  {
   "cell_type": "markdown",
   "metadata": {},
   "source": [
    "5 Defina a função contem_parQ que recebe como argumento uma lista de números\n",
    "inteiros w e devolve True se w contém um número par e False em caso contrário.\n",
    " - Ex: contem_parQ([2,3,1,2,3,4]) = True\n",
    " - Ex: contem_parQ([1,3,5,7]) = False"
   ]
  },
  {
   "cell_type": "code",
   "execution_count": 4,
   "metadata": {},
   "outputs": [
    {
     "name": "stdout",
     "output_type": "stream",
     "text": [
      "True\n",
      "True\n"
     ]
    }
   ],
   "source": [
    "def contem_parQ(w):\n",
    "    if len(w)==0:\n",
    "        return False\n",
    "    else: \n",
    "        n = w.pop()\n",
    "        if n%2 == 0:\n",
    "            return True\n",
    "        else:\n",
    "            return contem_parQ(w)\n",
    "\n",
    "print(contem_parQ([2,3,1,2,3,4]))\n",
    "print(contem_parQ([1,2,1]))\n",
    "assert(contem_parQ([2,3,1,2,3,4]) == True)\n",
    "assert(contem_parQ([1,3,5,7]) == False)"
   ]
  },
  {
   "cell_type": "markdown",
   "metadata": {},
   "source": [
    "6 Defina a função todos_imparesQ que recebe como argumento uma lista de\n",
    "números inteiros w e devolve True se w contém apenas números ímpares e False\n",
    "em caso contrário.\n",
    " - Ex: todos_imparesQ([1,3,5,7]) = True\n",
    " - Ex: todos_imparesQ([]) = True\n",
    " - Ex: todos_imparesQ([1,2,3,4,5]) = False"
   ]
  },
  {
   "cell_type": "code",
   "execution_count": 97,
   "metadata": {},
   "outputs": [
    {
     "name": "stdout",
     "output_type": "stream",
     "text": [
      "True\n",
      "False\n"
     ]
    }
   ],
   "source": [
    "def contem_imparQ(w):\n",
    "    if len(w) == 0:\n",
    "        return True\n",
    "    else: \n",
    "        n = w.pop()\n",
    "        if n%2 !=  0:\n",
    "            return contem_imparQ(w)\n",
    "            if len(w) == 0:\n",
    "                return True\n",
    "        else:\n",
    "            return False\n",
    "        \n",
    "print(contem_imparQ([1,3,5,7]))\n",
    "print(contem_imparQ([1,2,3]))\n",
    "assert(contem_imparQ([1,3,5,7]) == True)\n",
    "assert(contem_imparQ([1,2,3]) == False)"
   ]
  },
  {
   "cell_type": "markdown",
   "metadata": {},
   "source": [
    "7 Defina a função pertenceQ que recebe como argumentos uma lista de números\n",
    "inteiros w e um número inteiro n e devolve True se n ocorre em w e False em\n",
    "caso contrário.\n",
    " - Ex: pertenceQ([1,2,3],1) = True\n",
    " - Ex: pertenceQ([1,2,3],2) = True\n",
    " - Ex: pertenceQ([1,2,3],3) = True\n",
    " - Ex: pertenceQ([1,2,3],4) = False"
   ]
  },
  {
   "cell_type": "code",
   "execution_count": 1,
   "metadata": {},
   "outputs": [
    {
     "name": "stdout",
     "output_type": "stream",
     "text": [
      "True\n",
      "True\n",
      "True\n",
      "False\n"
     ]
    }
   ],
   "source": [
    "def pertenceQ(w,n):\n",
    "    if len(w) > 0:\n",
    "        if n == w.pop():\n",
    "            return True\n",
    "        else:\n",
    "            return pertenceQ(w,n)\n",
    "    else:\n",
    "        return False\n",
    "\n",
    "print(pertenceQ([1,2,3],1))\n",
    "print(pertenceQ([1,2,3],2))\n",
    "print(pertenceQ([1,2,3],3))\n",
    "print(pertenceQ([1,2,3],4))\n",
    "assert(pertenceQ([1,2,3],1) == True)\n",
    "assert(pertenceQ([1,2,3],4) == False)"
   ]
  },
  {
   "cell_type": "markdown",
   "metadata": {},
   "source": [
    "8 Defina a função junta que recebe como argumentos duas listas de números\n",
    "inteiros w1 e w2 e devolve a concatenação de w1 com w2 .\n",
    " - Ex: junta([1,2,3],[4,5,6]) = [1, 2, 3, 4, 5, 6]\n",
    " - Ex: junta([],[4,5,6]) = [4, 5, 6]\n",
    " - Ex: junta([1,2,3],[]) = [1, 2, 3]"
   ]
  },
  {
   "cell_type": "code",
   "execution_count": 10,
   "metadata": {},
   "outputs": [
    {
     "name": "stdout",
     "output_type": "stream",
     "text": [
      "[1, 2, 3, 6, 5, 4]\n"
     ]
    }
   ],
   "source": [
    "def junta(w1,w2):\n",
    "    if len(w1) > 0 and len(w2) > 0:\n",
    "        w1.append(w2.pop())\n",
    "        return junta(w1,w2)\n",
    "    elif len(w1) == 0:\n",
    "        return w2\n",
    "    elif len(w2) == 0:\n",
    "        return w1\n",
    "    else:\n",
    "        return 0\n",
    "print(junta([1,2,3],[4,5,6]))\n",
    "#arrumar para tentar deixar ordenado"
   ]
  },
  {
   "cell_type": "markdown",
   "metadata": {},
   "source": [
    "9 Defina a função temPrimoQ que recebe como argumento uma lista de listas de\n",
    "números inteiros w e devolve True se alguma das sublistas w tem um número\n",
    "primo e False em caso contrário.\n",
    " - Ex: temPrimoQ([[4,4,4,4],[5,4,6,7],[2,4,3]]) = True\n",
    " - Ex: temPrimoQ([[4,4,4,4],[4,4,4],[],[4]]) = False"
   ]
  },
  {
   "cell_type": "code",
   "execution_count": null,
   "metadata": {},
   "outputs": [],
   "source": [
    "def primo(n):\n",
    "    for i in range(2,n):\n",
    "        if n%i==0:\n",
    "            return False\n",
    "    else:\n",
    "        return True\n",
    "\n",
    "def extraiLista(w):\n",
    "    if len(w)==0:\n",
    "        return None\n",
    "    else:\n",
    "        return w.pop()\n",
    "    \n",
    "def temPrimoQ(w):\n",
    "    v = extraiLista(w)\n",
    "    if v == None:\n",
    "        return False\n",
    "    else:\n",
    "        if len(v) > 0:\n",
    "            p = v.pop()\n",
    "            if primo(p):\n",
    "                return True\n",
    "            else:\n",
    "                w.append(v)\n",
    "                return temPrimoQ(w)\n",
    "        else:\n",
    "            return temPrimoQ(w)\n",
    "    \n",
    "assert(temPrimoQ([[4,4,4,4],[5,4,6,7],[2,4,3]]) == True)\n",
    "assert(temPrimoQ([[4,4,4,4],[4,4,4],[],[4]]) == False)"
   ]
  },
  {
   "cell_type": "markdown",
   "metadata": {},
   "source": [
    "10 Defina a função inverteLista que recebe como argumento uma lista w e devolve a\n",
    "mesma lista mas invertida.\n",
    " - Ex: inverteLista([1,2,3,4,5]) = [5, 4, 3, 2, 1]\n",
    " - Ex: inverteLista([])"
   ]
  },
  {
   "cell_type": "code",
   "execution_count": 3,
   "metadata": {},
   "outputs": [
    {
     "name": "stdout",
     "output_type": "stream",
     "text": [
      "[3, 2, 1]\n"
     ]
    }
   ],
   "source": [
    "#fazer com [::-1] é simples porem nao sei se é o objetivo do exercicio, tentar fazer recursao\n",
    "def inverteLista(w):\n",
    "    return w[::-1]\n",
    "print(inverteLista([1,2,3]))"
   ]
  }
 ],
 "metadata": {
  "kernelspec": {
   "display_name": "Python 3",
   "language": "python",
   "name": "python3"
  },
  "language_info": {
   "codemirror_mode": {
    "name": "ipython",
    "version": 3
   },
   "file_extension": ".py",
   "mimetype": "text/x-python",
   "name": "python",
   "nbconvert_exporter": "python",
   "pygments_lexer": "ipython3",
   "version": "3.7.3"
  }
 },
 "nbformat": 4,
 "nbformat_minor": 2
}
